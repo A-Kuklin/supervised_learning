{
 "cells": [
  {
   "cell_type": "markdown",
   "metadata": {},
   "source": [
    "# Отток клиентов"
   ]
  },
  {
   "cell_type": "markdown",
   "metadata": {},
   "source": [
    "Из «Бета-Банка» стали уходить клиенты. Каждый месяц. Немного, но заметно. Банковские маркетологи посчитали: сохранять текущих клиентов дешевле, чем привлекать новых.\n",
    "\n",
    "Нужно спрогнозировать, уйдёт клиент из банка в ближайшее время или нет. Вам предоставлены исторические данные о поведении клиентов и расторжении договоров с банком. \n",
    "\n",
    "Постройте модель с предельно большим значением *F1*-меры. Чтобы сдать проект успешно, нужно довести метрику до 0.59. Проверьте *F1*-меру на тестовой выборке самостоятельно.\n",
    "\n",
    "Дополнительно измеряйте *AUC-ROC*, сравнивайте её значение с *F1*-мерой.\n",
    "\n",
    "Источник данных:\n",
    "[https://www.kaggle.com/barelydedicated/bank-customer-churn-modeling](https://www.kaggle.com/barelydedicated/bank-customer-churn-modeling)"
   ]
  },
  {
   "cell_type": "markdown",
   "metadata": {},
   "source": [
    "## Общая информация"
   ]
  },
  {
   "cell_type": "code",
   "execution_count": 1,
   "metadata": {},
   "outputs": [],
   "source": [
    "import numpy as np\n",
    "import pandas as pd\n",
    "import seaborn as sns\n",
    "import matplotlib.pyplot as plt\n",
    "from sklearn.utils import shuffle\n",
    "from sklearn.preprocessing import StandardScaler\n",
    "from sklearn.metrics import accuracy_score, f1_score, recall_score, precision_score, roc_auc_score, roc_curve\n",
    "from sklearn.model_selection import train_test_split\n",
    "from sklearn.tree import DecisionTreeClassifier\n",
    "from sklearn.ensemble import RandomForestClassifier\n",
    "from sklearn.linear_model import LogisticRegression\n",
    "from sklearn.dummy import DummyClassifier"
   ]
  },
  {
   "cell_type": "code",
   "execution_count": 2,
   "metadata": {},
   "outputs": [
    {
     "data": {
      "text/html": [
       "<div>\n",
       "<style scoped>\n",
       "    .dataframe tbody tr th:only-of-type {\n",
       "        vertical-align: middle;\n",
       "    }\n",
       "\n",
       "    .dataframe tbody tr th {\n",
       "        vertical-align: top;\n",
       "    }\n",
       "\n",
       "    .dataframe thead th {\n",
       "        text-align: right;\n",
       "    }\n",
       "</style>\n",
       "<table border=\"1\" class=\"dataframe\">\n",
       "  <thead>\n",
       "    <tr style=\"text-align: right;\">\n",
       "      <th></th>\n",
       "      <th>RowNumber</th>\n",
       "      <th>CustomerId</th>\n",
       "      <th>Surname</th>\n",
       "      <th>CreditScore</th>\n",
       "      <th>Geography</th>\n",
       "      <th>Gender</th>\n",
       "      <th>Age</th>\n",
       "      <th>Tenure</th>\n",
       "      <th>Balance</th>\n",
       "      <th>NumOfProducts</th>\n",
       "      <th>HasCrCard</th>\n",
       "      <th>IsActiveMember</th>\n",
       "      <th>EstimatedSalary</th>\n",
       "      <th>Exited</th>\n",
       "    </tr>\n",
       "  </thead>\n",
       "  <tbody>\n",
       "    <tr>\n",
       "      <th>0</th>\n",
       "      <td>1</td>\n",
       "      <td>15634602</td>\n",
       "      <td>Hargrave</td>\n",
       "      <td>619</td>\n",
       "      <td>France</td>\n",
       "      <td>Female</td>\n",
       "      <td>42</td>\n",
       "      <td>2.0</td>\n",
       "      <td>0.00</td>\n",
       "      <td>1</td>\n",
       "      <td>1</td>\n",
       "      <td>1</td>\n",
       "      <td>101348.88</td>\n",
       "      <td>1</td>\n",
       "    </tr>\n",
       "    <tr>\n",
       "      <th>1</th>\n",
       "      <td>2</td>\n",
       "      <td>15647311</td>\n",
       "      <td>Hill</td>\n",
       "      <td>608</td>\n",
       "      <td>Spain</td>\n",
       "      <td>Female</td>\n",
       "      <td>41</td>\n",
       "      <td>1.0</td>\n",
       "      <td>83807.86</td>\n",
       "      <td>1</td>\n",
       "      <td>0</td>\n",
       "      <td>1</td>\n",
       "      <td>112542.58</td>\n",
       "      <td>0</td>\n",
       "    </tr>\n",
       "    <tr>\n",
       "      <th>2</th>\n",
       "      <td>3</td>\n",
       "      <td>15619304</td>\n",
       "      <td>Onio</td>\n",
       "      <td>502</td>\n",
       "      <td>France</td>\n",
       "      <td>Female</td>\n",
       "      <td>42</td>\n",
       "      <td>8.0</td>\n",
       "      <td>159660.80</td>\n",
       "      <td>3</td>\n",
       "      <td>1</td>\n",
       "      <td>0</td>\n",
       "      <td>113931.57</td>\n",
       "      <td>1</td>\n",
       "    </tr>\n",
       "    <tr>\n",
       "      <th>3</th>\n",
       "      <td>4</td>\n",
       "      <td>15701354</td>\n",
       "      <td>Boni</td>\n",
       "      <td>699</td>\n",
       "      <td>France</td>\n",
       "      <td>Female</td>\n",
       "      <td>39</td>\n",
       "      <td>1.0</td>\n",
       "      <td>0.00</td>\n",
       "      <td>2</td>\n",
       "      <td>0</td>\n",
       "      <td>0</td>\n",
       "      <td>93826.63</td>\n",
       "      <td>0</td>\n",
       "    </tr>\n",
       "    <tr>\n",
       "      <th>4</th>\n",
       "      <td>5</td>\n",
       "      <td>15737888</td>\n",
       "      <td>Mitchell</td>\n",
       "      <td>850</td>\n",
       "      <td>Spain</td>\n",
       "      <td>Female</td>\n",
       "      <td>43</td>\n",
       "      <td>2.0</td>\n",
       "      <td>125510.82</td>\n",
       "      <td>1</td>\n",
       "      <td>1</td>\n",
       "      <td>1</td>\n",
       "      <td>79084.10</td>\n",
       "      <td>0</td>\n",
       "    </tr>\n",
       "  </tbody>\n",
       "</table>\n",
       "</div>"
      ],
      "text/plain": [
       "   RowNumber  CustomerId   Surname  CreditScore Geography  Gender  Age  \\\n",
       "0          1    15634602  Hargrave          619    France  Female   42   \n",
       "1          2    15647311      Hill          608     Spain  Female   41   \n",
       "2          3    15619304      Onio          502    France  Female   42   \n",
       "3          4    15701354      Boni          699    France  Female   39   \n",
       "4          5    15737888  Mitchell          850     Spain  Female   43   \n",
       "\n",
       "   Tenure    Balance  NumOfProducts  HasCrCard  IsActiveMember  \\\n",
       "0     2.0       0.00              1          1               1   \n",
       "1     1.0   83807.86              1          0               1   \n",
       "2     8.0  159660.80              3          1               0   \n",
       "3     1.0       0.00              2          0               0   \n",
       "4     2.0  125510.82              1          1               1   \n",
       "\n",
       "   EstimatedSalary  Exited  \n",
       "0        101348.88       1  \n",
       "1        112542.58       0  \n",
       "2        113931.57       1  \n",
       "3         93826.63       0  \n",
       "4         79084.10       0  "
      ]
     },
     "execution_count": 2,
     "metadata": {},
     "output_type": "execute_result"
    }
   ],
   "source": [
    "data = pd.read_csv('Churn.csv')\n",
    "data.head()"
   ]
  },
  {
   "cell_type": "code",
   "execution_count": 3,
   "metadata": {},
   "outputs": [
    {
     "name": "stdout",
     "output_type": "stream",
     "text": [
      "<class 'pandas.core.frame.DataFrame'>\n",
      "RangeIndex: 10000 entries, 0 to 9999\n",
      "Data columns (total 14 columns):\n",
      " #   Column           Non-Null Count  Dtype  \n",
      "---  ------           --------------  -----  \n",
      " 0   RowNumber        10000 non-null  int64  \n",
      " 1   CustomerId       10000 non-null  int64  \n",
      " 2   Surname          10000 non-null  object \n",
      " 3   CreditScore      10000 non-null  int64  \n",
      " 4   Geography        10000 non-null  object \n",
      " 5   Gender           10000 non-null  object \n",
      " 6   Age              10000 non-null  int64  \n",
      " 7   Tenure           9091 non-null   float64\n",
      " 8   Balance          10000 non-null  float64\n",
      " 9   NumOfProducts    10000 non-null  int64  \n",
      " 10  HasCrCard        10000 non-null  int64  \n",
      " 11  IsActiveMember   10000 non-null  int64  \n",
      " 12  EstimatedSalary  10000 non-null  float64\n",
      " 13  Exited           10000 non-null  int64  \n",
      "dtypes: float64(3), int64(8), object(3)\n",
      "memory usage: 1.1+ MB\n"
     ]
    }
   ],
   "source": [
    "data.info()"
   ]
  },
  {
   "cell_type": "code",
   "execution_count": 4,
   "metadata": {},
   "outputs": [
    {
     "data": {
      "text/html": [
       "<div>\n",
       "<style scoped>\n",
       "    .dataframe tbody tr th:only-of-type {\n",
       "        vertical-align: middle;\n",
       "    }\n",
       "\n",
       "    .dataframe tbody tr th {\n",
       "        vertical-align: top;\n",
       "    }\n",
       "\n",
       "    .dataframe thead th {\n",
       "        text-align: right;\n",
       "    }\n",
       "</style>\n",
       "<table border=\"1\" class=\"dataframe\">\n",
       "  <thead>\n",
       "    <tr style=\"text-align: right;\">\n",
       "      <th></th>\n",
       "      <th>RowNumber</th>\n",
       "      <th>CustomerId</th>\n",
       "      <th>CreditScore</th>\n",
       "      <th>Age</th>\n",
       "      <th>Tenure</th>\n",
       "      <th>Balance</th>\n",
       "      <th>NumOfProducts</th>\n",
       "      <th>HasCrCard</th>\n",
       "      <th>IsActiveMember</th>\n",
       "      <th>EstimatedSalary</th>\n",
       "      <th>Exited</th>\n",
       "    </tr>\n",
       "  </thead>\n",
       "  <tbody>\n",
       "    <tr>\n",
       "      <th>count</th>\n",
       "      <td>10000.00000</td>\n",
       "      <td>1.000000e+04</td>\n",
       "      <td>10000.000000</td>\n",
       "      <td>10000.000000</td>\n",
       "      <td>9091.000000</td>\n",
       "      <td>10000.000000</td>\n",
       "      <td>10000.000000</td>\n",
       "      <td>10000.00000</td>\n",
       "      <td>10000.000000</td>\n",
       "      <td>10000.000000</td>\n",
       "      <td>10000.000000</td>\n",
       "    </tr>\n",
       "    <tr>\n",
       "      <th>mean</th>\n",
       "      <td>5000.50000</td>\n",
       "      <td>1.569094e+07</td>\n",
       "      <td>650.528800</td>\n",
       "      <td>38.921800</td>\n",
       "      <td>4.997690</td>\n",
       "      <td>76485.889288</td>\n",
       "      <td>1.530200</td>\n",
       "      <td>0.70550</td>\n",
       "      <td>0.515100</td>\n",
       "      <td>100090.239881</td>\n",
       "      <td>0.203700</td>\n",
       "    </tr>\n",
       "    <tr>\n",
       "      <th>std</th>\n",
       "      <td>2886.89568</td>\n",
       "      <td>7.193619e+04</td>\n",
       "      <td>96.653299</td>\n",
       "      <td>10.487806</td>\n",
       "      <td>2.894723</td>\n",
       "      <td>62397.405202</td>\n",
       "      <td>0.581654</td>\n",
       "      <td>0.45584</td>\n",
       "      <td>0.499797</td>\n",
       "      <td>57510.492818</td>\n",
       "      <td>0.402769</td>\n",
       "    </tr>\n",
       "    <tr>\n",
       "      <th>min</th>\n",
       "      <td>1.00000</td>\n",
       "      <td>1.556570e+07</td>\n",
       "      <td>350.000000</td>\n",
       "      <td>18.000000</td>\n",
       "      <td>0.000000</td>\n",
       "      <td>0.000000</td>\n",
       "      <td>1.000000</td>\n",
       "      <td>0.00000</td>\n",
       "      <td>0.000000</td>\n",
       "      <td>11.580000</td>\n",
       "      <td>0.000000</td>\n",
       "    </tr>\n",
       "    <tr>\n",
       "      <th>25%</th>\n",
       "      <td>2500.75000</td>\n",
       "      <td>1.562853e+07</td>\n",
       "      <td>584.000000</td>\n",
       "      <td>32.000000</td>\n",
       "      <td>2.000000</td>\n",
       "      <td>0.000000</td>\n",
       "      <td>1.000000</td>\n",
       "      <td>0.00000</td>\n",
       "      <td>0.000000</td>\n",
       "      <td>51002.110000</td>\n",
       "      <td>0.000000</td>\n",
       "    </tr>\n",
       "    <tr>\n",
       "      <th>50%</th>\n",
       "      <td>5000.50000</td>\n",
       "      <td>1.569074e+07</td>\n",
       "      <td>652.000000</td>\n",
       "      <td>37.000000</td>\n",
       "      <td>5.000000</td>\n",
       "      <td>97198.540000</td>\n",
       "      <td>1.000000</td>\n",
       "      <td>1.00000</td>\n",
       "      <td>1.000000</td>\n",
       "      <td>100193.915000</td>\n",
       "      <td>0.000000</td>\n",
       "    </tr>\n",
       "    <tr>\n",
       "      <th>75%</th>\n",
       "      <td>7500.25000</td>\n",
       "      <td>1.575323e+07</td>\n",
       "      <td>718.000000</td>\n",
       "      <td>44.000000</td>\n",
       "      <td>7.000000</td>\n",
       "      <td>127644.240000</td>\n",
       "      <td>2.000000</td>\n",
       "      <td>1.00000</td>\n",
       "      <td>1.000000</td>\n",
       "      <td>149388.247500</td>\n",
       "      <td>0.000000</td>\n",
       "    </tr>\n",
       "    <tr>\n",
       "      <th>max</th>\n",
       "      <td>10000.00000</td>\n",
       "      <td>1.581569e+07</td>\n",
       "      <td>850.000000</td>\n",
       "      <td>92.000000</td>\n",
       "      <td>10.000000</td>\n",
       "      <td>250898.090000</td>\n",
       "      <td>4.000000</td>\n",
       "      <td>1.00000</td>\n",
       "      <td>1.000000</td>\n",
       "      <td>199992.480000</td>\n",
       "      <td>1.000000</td>\n",
       "    </tr>\n",
       "  </tbody>\n",
       "</table>\n",
       "</div>"
      ],
      "text/plain": [
       "         RowNumber    CustomerId   CreditScore           Age       Tenure  \\\n",
       "count  10000.00000  1.000000e+04  10000.000000  10000.000000  9091.000000   \n",
       "mean    5000.50000  1.569094e+07    650.528800     38.921800     4.997690   \n",
       "std     2886.89568  7.193619e+04     96.653299     10.487806     2.894723   \n",
       "min        1.00000  1.556570e+07    350.000000     18.000000     0.000000   \n",
       "25%     2500.75000  1.562853e+07    584.000000     32.000000     2.000000   \n",
       "50%     5000.50000  1.569074e+07    652.000000     37.000000     5.000000   \n",
       "75%     7500.25000  1.575323e+07    718.000000     44.000000     7.000000   \n",
       "max    10000.00000  1.581569e+07    850.000000     92.000000    10.000000   \n",
       "\n",
       "             Balance  NumOfProducts    HasCrCard  IsActiveMember  \\\n",
       "count   10000.000000   10000.000000  10000.00000    10000.000000   \n",
       "mean    76485.889288       1.530200      0.70550        0.515100   \n",
       "std     62397.405202       0.581654      0.45584        0.499797   \n",
       "min         0.000000       1.000000      0.00000        0.000000   \n",
       "25%         0.000000       1.000000      0.00000        0.000000   \n",
       "50%     97198.540000       1.000000      1.00000        1.000000   \n",
       "75%    127644.240000       2.000000      1.00000        1.000000   \n",
       "max    250898.090000       4.000000      1.00000        1.000000   \n",
       "\n",
       "       EstimatedSalary        Exited  \n",
       "count     10000.000000  10000.000000  \n",
       "mean     100090.239881      0.203700  \n",
       "std       57510.492818      0.402769  \n",
       "min          11.580000      0.000000  \n",
       "25%       51002.110000      0.000000  \n",
       "50%      100193.915000      0.000000  \n",
       "75%      149388.247500      0.000000  \n",
       "max      199992.480000      1.000000  "
      ]
     },
     "execution_count": 4,
     "metadata": {},
     "output_type": "execute_result"
    }
   ],
   "source": [
    "data.describe()"
   ]
  },
  {
   "cell_type": "markdown",
   "metadata": {},
   "source": [
    "***\n",
    "### Вывод\n",
    "\n",
    "* Столбец `RowNumber` дублирует индекс таблицы, можно удалить.\n",
    "* Столбец `CustomerId` — уникальный идентификатор клиента — не нужен для обучения модели.\n",
    "* Столбец `Surname` — фамилия — не нужен для обучения модели.\n",
    "* Столбец `Geography` — страна проживания — категориальный признак, который нужно преобразовать методом `one-hot-encoding`.\n",
    "* Столбец `Gender` — пол — категориальный признак, который нужно преобразовать методом `one-hot-encoding`.\n",
    "* Столбец `Tenure` — сколько лет человек является клиентом банка — есть пропуски (9.1%), надо заменить на среднее.\n",
    "* Необходимо переименовать столбцы.<br><br>\n",
    "***"
   ]
  },
  {
   "cell_type": "markdown",
   "metadata": {},
   "source": [
    "## Подготовка данных"
   ]
  },
  {
   "cell_type": "markdown",
   "metadata": {},
   "source": [
    "### Удаление столбцов"
   ]
  },
  {
   "cell_type": "code",
   "execution_count": 5,
   "metadata": {},
   "outputs": [],
   "source": [
    "data = data.drop(['RowNumber', 'CustomerId', 'Surname'], axis=1)"
   ]
  },
  {
   "cell_type": "markdown",
   "metadata": {},
   "source": [
    "### Замена категориальных признаков"
   ]
  },
  {
   "cell_type": "code",
   "execution_count": 6,
   "metadata": {},
   "outputs": [],
   "source": [
    "data = pd.get_dummies(data, drop_first=True)"
   ]
  },
  {
   "cell_type": "markdown",
   "metadata": {},
   "source": [
    "### Столбец `Tenure`"
   ]
  },
  {
   "cell_type": "code",
   "execution_count": 7,
   "metadata": {},
   "outputs": [],
   "source": [
    "data['Tenure'] = data['Tenure'].fillna(data['Tenure'].mean()).astype(int)"
   ]
  },
  {
   "cell_type": "markdown",
   "metadata": {},
   "source": [
    "### Замена названий столбцов "
   ]
  },
  {
   "cell_type": "code",
   "execution_count": 8,
   "metadata": {},
   "outputs": [],
   "source": [
    "data.columns = data.columns.str.lower()\n",
    "columns = {\n",
    "    'rownumber': 'row_number',\n",
    "    'customerid': 'customer_id',\n",
    "    'creditscore': 'credit_score',\n",
    "    'numofproducts': 'num_of_products',\n",
    "    'hascrcard': 'has_cr_card',\n",
    "    'isactivemember': 'is_active_member',\n",
    "    'estimatedsalary': 'estimated_salary',\n",
    "}\n",
    "data = data.rename(columns=columns)"
   ]
  },
  {
   "cell_type": "markdown",
   "metadata": {},
   "source": [
    "* `credit_score` — кредитный рейтинг\n",
    "* `geography` — страна проживания\n",
    "* `gender` — пол\n",
    "* `age` — возраст\n",
    "* `tenure` — сколько лет человек является клиентом банка\n",
    "* `balance` — баланс на счёте\n",
    "* `num_of_products` — количество продуктов банка, используемых клиентом\n",
    "* `has_cr_card` — наличие кредитной карты\n",
    "* `is_active_member` — активность клиента\n",
    "* `estimated_salary` — предполагаемая зарплата\n",
    "* `exited` — целевой признак — факт ухода клиента"
   ]
  },
  {
   "cell_type": "code",
   "execution_count": 9,
   "metadata": {},
   "outputs": [
    {
     "data": {
      "text/html": [
       "<div>\n",
       "<style scoped>\n",
       "    .dataframe tbody tr th:only-of-type {\n",
       "        vertical-align: middle;\n",
       "    }\n",
       "\n",
       "    .dataframe tbody tr th {\n",
       "        vertical-align: top;\n",
       "    }\n",
       "\n",
       "    .dataframe thead th {\n",
       "        text-align: right;\n",
       "    }\n",
       "</style>\n",
       "<table border=\"1\" class=\"dataframe\">\n",
       "  <thead>\n",
       "    <tr style=\"text-align: right;\">\n",
       "      <th></th>\n",
       "      <th>credit_score</th>\n",
       "      <th>age</th>\n",
       "      <th>tenure</th>\n",
       "      <th>balance</th>\n",
       "      <th>num_of_products</th>\n",
       "      <th>has_cr_card</th>\n",
       "      <th>is_active_member</th>\n",
       "      <th>estimated_salary</th>\n",
       "      <th>exited</th>\n",
       "      <th>geography_germany</th>\n",
       "      <th>geography_spain</th>\n",
       "      <th>gender_male</th>\n",
       "    </tr>\n",
       "  </thead>\n",
       "  <tbody>\n",
       "    <tr>\n",
       "      <th>9995</th>\n",
       "      <td>771</td>\n",
       "      <td>39</td>\n",
       "      <td>5</td>\n",
       "      <td>0.00</td>\n",
       "      <td>2</td>\n",
       "      <td>1</td>\n",
       "      <td>0</td>\n",
       "      <td>96270.64</td>\n",
       "      <td>0</td>\n",
       "      <td>0</td>\n",
       "      <td>0</td>\n",
       "      <td>1</td>\n",
       "    </tr>\n",
       "    <tr>\n",
       "      <th>9996</th>\n",
       "      <td>516</td>\n",
       "      <td>35</td>\n",
       "      <td>10</td>\n",
       "      <td>57369.61</td>\n",
       "      <td>1</td>\n",
       "      <td>1</td>\n",
       "      <td>1</td>\n",
       "      <td>101699.77</td>\n",
       "      <td>0</td>\n",
       "      <td>0</td>\n",
       "      <td>0</td>\n",
       "      <td>1</td>\n",
       "    </tr>\n",
       "    <tr>\n",
       "      <th>9997</th>\n",
       "      <td>709</td>\n",
       "      <td>36</td>\n",
       "      <td>7</td>\n",
       "      <td>0.00</td>\n",
       "      <td>1</td>\n",
       "      <td>0</td>\n",
       "      <td>1</td>\n",
       "      <td>42085.58</td>\n",
       "      <td>1</td>\n",
       "      <td>0</td>\n",
       "      <td>0</td>\n",
       "      <td>0</td>\n",
       "    </tr>\n",
       "    <tr>\n",
       "      <th>9998</th>\n",
       "      <td>772</td>\n",
       "      <td>42</td>\n",
       "      <td>3</td>\n",
       "      <td>75075.31</td>\n",
       "      <td>2</td>\n",
       "      <td>1</td>\n",
       "      <td>0</td>\n",
       "      <td>92888.52</td>\n",
       "      <td>1</td>\n",
       "      <td>1</td>\n",
       "      <td>0</td>\n",
       "      <td>1</td>\n",
       "    </tr>\n",
       "    <tr>\n",
       "      <th>9999</th>\n",
       "      <td>792</td>\n",
       "      <td>28</td>\n",
       "      <td>4</td>\n",
       "      <td>130142.79</td>\n",
       "      <td>1</td>\n",
       "      <td>1</td>\n",
       "      <td>0</td>\n",
       "      <td>38190.78</td>\n",
       "      <td>0</td>\n",
       "      <td>0</td>\n",
       "      <td>0</td>\n",
       "      <td>0</td>\n",
       "    </tr>\n",
       "  </tbody>\n",
       "</table>\n",
       "</div>"
      ],
      "text/plain": [
       "      credit_score  age  tenure    balance  num_of_products  has_cr_card  \\\n",
       "9995           771   39       5       0.00                2            1   \n",
       "9996           516   35      10   57369.61                1            1   \n",
       "9997           709   36       7       0.00                1            0   \n",
       "9998           772   42       3   75075.31                2            1   \n",
       "9999           792   28       4  130142.79                1            1   \n",
       "\n",
       "      is_active_member  estimated_salary  exited  geography_germany  \\\n",
       "9995                 0          96270.64       0                  0   \n",
       "9996                 1         101699.77       0                  0   \n",
       "9997                 1          42085.58       1                  0   \n",
       "9998                 0          92888.52       1                  1   \n",
       "9999                 0          38190.78       0                  0   \n",
       "\n",
       "      geography_spain  gender_male  \n",
       "9995                0            1  \n",
       "9996                0            1  \n",
       "9997                0            0  \n",
       "9998                0            1  \n",
       "9999                0            0  "
      ]
     },
     "execution_count": 9,
     "metadata": {},
     "output_type": "execute_result"
    }
   ],
   "source": [
    "data.tail()"
   ]
  },
  {
   "cell_type": "markdown",
   "metadata": {},
   "source": [
    "***\n",
    "### Вывод\n",
    "\n",
    "* Лишние столбцы удалены.\n",
    "* Категориальные признаки заменены методом `one-hot-encoding`.\n",
    "* Заполнены пропуски в столбце `tenure`.\n",
    "* Названия столбцов переименованы.\n",
    "* Столбцы: `credit_score`, `age`, `tenure`, `balance`, `num_of_products`, `estimated_salary`;  \n",
    "    содержат количественные признаки, необходимо масштабировать.\n",
    "* Попарные зависимости (sns.pairplot) не показали каких-то чётких взаимосвязей.<br><br>\n",
    "***"
   ]
  },
  {
   "cell_type": "markdown",
   "metadata": {},
   "source": [
    "## Подготовка выборок"
   ]
  },
  {
   "cell_type": "markdown",
   "metadata": {},
   "source": [
    "### Формирование выборок"
   ]
  },
  {
   "cell_type": "code",
   "execution_count": 10,
   "metadata": {},
   "outputs": [],
   "source": [
    "features = data.drop(['exited'], axis=1)\n",
    "target = data['exited']"
   ]
  },
  {
   "cell_type": "code",
   "execution_count": 11,
   "metadata": {},
   "outputs": [],
   "source": [
    "features_train, features_test_valid, target_train, target_test_valid = train_test_split(\n",
    "    features, target, test_size=0.40, random_state=12345\n",
    ")\n",
    "features_test, features_valid, target_test, target_valid = train_test_split(\n",
    "    features_test_valid, target_test_valid, test_size=0.50, random_state=12345\n",
    ")"
   ]
  },
  {
   "cell_type": "code",
   "execution_count": 12,
   "metadata": {
    "scrolled": true
   },
   "outputs": [
    {
     "name": "stdout",
     "output_type": "stream",
     "text": [
      "Разделение выборки в следующих пропорциях:\n",
      "60% — тренировочная;\n",
      "20% — тестовая;\n",
      "20% — валидационная.\n"
     ]
    }
   ],
   "source": [
    "print('Разделение выборки в следующих пропорциях:')\n",
    "print(f'{(len(features_train)/len(data)):.0%} — тренировочная;')\n",
    "print(f'{(len(features_test)/len(data)):.0%} — тестовая;')\n",
    "print(f'{(len(features_valid)/len(data)):.0%} — валидационная.')"
   ]
  },
  {
   "cell_type": "markdown",
   "metadata": {},
   "source": [
    "### Масштабирование количественных признаков"
   ]
  },
  {
   "cell_type": "code",
   "execution_count": 13,
   "metadata": {},
   "outputs": [],
   "source": [
    "pd.options.mode.chained_assignment = None\n",
    "\n",
    "numeric = ['credit_score', 'age', 'tenure', 'balance', 'num_of_products', 'estimated_salary']\n",
    "scaler = StandardScaler()\n",
    "scaler.fit(features_train[numeric])\n",
    "features_train[numeric] = scaler.transform(features_train[numeric])\n",
    "features_test[numeric] = scaler.transform(features_test[numeric])\n",
    "features_valid[numeric] = scaler.transform(features_valid[numeric])\n",
    "\n",
    "pd.options.mode.chained_assignment = 'warn'"
   ]
  },
  {
   "cell_type": "code",
   "execution_count": 14,
   "metadata": {
    "scrolled": true
   },
   "outputs": [
    {
     "data": {
      "text/html": [
       "<div>\n",
       "<style scoped>\n",
       "    .dataframe tbody tr th:only-of-type {\n",
       "        vertical-align: middle;\n",
       "    }\n",
       "\n",
       "    .dataframe tbody tr th {\n",
       "        vertical-align: top;\n",
       "    }\n",
       "\n",
       "    .dataframe thead th {\n",
       "        text-align: right;\n",
       "    }\n",
       "</style>\n",
       "<table border=\"1\" class=\"dataframe\">\n",
       "  <thead>\n",
       "    <tr style=\"text-align: right;\">\n",
       "      <th></th>\n",
       "      <th>credit_score</th>\n",
       "      <th>age</th>\n",
       "      <th>tenure</th>\n",
       "      <th>balance</th>\n",
       "      <th>num_of_products</th>\n",
       "      <th>has_cr_card</th>\n",
       "      <th>is_active_member</th>\n",
       "      <th>estimated_salary</th>\n",
       "      <th>geography_germany</th>\n",
       "      <th>geography_spain</th>\n",
       "      <th>gender_male</th>\n",
       "    </tr>\n",
       "  </thead>\n",
       "  <tbody>\n",
       "    <tr>\n",
       "      <th>4478</th>\n",
       "      <td>-1.073677</td>\n",
       "      <td>-0.752805</td>\n",
       "      <td>-0.338174</td>\n",
       "      <td>-1.233163</td>\n",
       "      <td>0.830152</td>\n",
       "      <td>0</td>\n",
       "      <td>1</td>\n",
       "      <td>-1.278361</td>\n",
       "      <td>0</td>\n",
       "      <td>0</td>\n",
       "      <td>1</td>\n",
       "    </tr>\n",
       "    <tr>\n",
       "      <th>4094</th>\n",
       "      <td>-1.447531</td>\n",
       "      <td>-0.942612</td>\n",
       "      <td>1.833088</td>\n",
       "      <td>-1.233163</td>\n",
       "      <td>0.830152</td>\n",
       "      <td>0</td>\n",
       "      <td>1</td>\n",
       "      <td>-1.281307</td>\n",
       "      <td>0</td>\n",
       "      <td>0</td>\n",
       "      <td>1</td>\n",
       "    </tr>\n",
       "    <tr>\n",
       "      <th>3492</th>\n",
       "      <td>0.027113</td>\n",
       "      <td>0.575842</td>\n",
       "      <td>-0.338174</td>\n",
       "      <td>-0.310229</td>\n",
       "      <td>-0.891560</td>\n",
       "      <td>0</td>\n",
       "      <td>1</td>\n",
       "      <td>-0.903158</td>\n",
       "      <td>0</td>\n",
       "      <td>0</td>\n",
       "      <td>0</td>\n",
       "    </tr>\n",
       "    <tr>\n",
       "      <th>2177</th>\n",
       "      <td>0.151731</td>\n",
       "      <td>-1.417129</td>\n",
       "      <td>-0.338174</td>\n",
       "      <td>-1.233163</td>\n",
       "      <td>0.830152</td>\n",
       "      <td>0</td>\n",
       "      <td>1</td>\n",
       "      <td>-1.128539</td>\n",
       "      <td>0</td>\n",
       "      <td>0</td>\n",
       "      <td>0</td>\n",
       "    </tr>\n",
       "    <tr>\n",
       "      <th>4578</th>\n",
       "      <td>0.400966</td>\n",
       "      <td>-0.088482</td>\n",
       "      <td>-1.423805</td>\n",
       "      <td>-1.233163</td>\n",
       "      <td>0.830152</td>\n",
       "      <td>0</td>\n",
       "      <td>0</td>\n",
       "      <td>-0.949841</td>\n",
       "      <td>0</td>\n",
       "      <td>0</td>\n",
       "      <td>1</td>\n",
       "    </tr>\n",
       "  </tbody>\n",
       "</table>\n",
       "</div>"
      ],
      "text/plain": [
       "      credit_score       age    tenure   balance  num_of_products  \\\n",
       "4478     -1.073677 -0.752805 -0.338174 -1.233163         0.830152   \n",
       "4094     -1.447531 -0.942612  1.833088 -1.233163         0.830152   \n",
       "3492      0.027113  0.575842 -0.338174 -0.310229        -0.891560   \n",
       "2177      0.151731 -1.417129 -0.338174 -1.233163         0.830152   \n",
       "4578      0.400966 -0.088482 -1.423805 -1.233163         0.830152   \n",
       "\n",
       "      has_cr_card  is_active_member  estimated_salary  geography_germany  \\\n",
       "4478            0                 1         -1.278361                  0   \n",
       "4094            0                 1         -1.281307                  0   \n",
       "3492            0                 1         -0.903158                  0   \n",
       "2177            0                 1         -1.128539                  0   \n",
       "4578            0                 0         -0.949841                  0   \n",
       "\n",
       "      geography_spain  gender_male  \n",
       "4478                0            1  \n",
       "4094                0            1  \n",
       "3492                0            0  \n",
       "2177                0            0  \n",
       "4578                0            1  "
      ]
     },
     "execution_count": 14,
     "metadata": {},
     "output_type": "execute_result"
    }
   ],
   "source": [
    "features_train.tail()"
   ]
  },
  {
   "cell_type": "markdown",
   "metadata": {},
   "source": [
    "***\n",
    "### Вывод\n",
    "\n",
    "* Выборки сформированы.\n",
    "* Количественные признаки отмасштабированы.<br><br>\n",
    "***"
   ]
  },
  {
   "cell_type": "markdown",
   "metadata": {},
   "source": [
    "## Исследование задачи"
   ]
  },
  {
   "cell_type": "markdown",
   "metadata": {},
   "source": [
    "### Баланс целевого признака"
   ]
  },
  {
   "cell_type": "code",
   "execution_count": 15,
   "metadata": {},
   "outputs": [
    {
     "data": {
      "image/png": "[encoded data removed]",
      "text/plain": [
       "<Figure size 1080x360 with 1 Axes>"
      ]
     },
     "metadata": {
      "needs_background": "light"
     },
     "output_type": "display_data"
    }
   ],
   "source": [
    "plot = data['exited'].value_counts().plot(\n",
    "    kind='bar', figsize=(15, 5), title='Соотношение ушедших и текущих клиентов', rot=0, color='#6c4675'\n",
    ")\n",
    "plot.set_xticklabels( ('текущие', 'ушедшие') )\n",
    "plt.show()"
   ]
  },
  {
   "cell_type": "markdown",
   "metadata": {},
   "source": [
    "Баланса нет, соотношение 1 (текущие) : 4 (ушедшие)."
   ]
  },
  {
   "cell_type": "markdown",
   "metadata": {},
   "source": [
    "### Исследование моделей"
   ]
  },
  {
   "cell_type": "markdown",
   "metadata": {},
   "source": [
    "Метод для показа метрик"
   ]
  },
  {
   "cell_type": "code",
   "execution_count": 16,
   "metadata": {},
   "outputs": [],
   "source": [
    "def show_metrics(model, features, target, model_name):\n",
    "    predictions = model.predict(features)\n",
    "    probabilities = model.predict_proba(features)[:, 1]\n",
    "    metrics = {\n",
    "        'F1-мера': [f'{f1_score(target, predictions):.0%}'],\n",
    "        'Полнота (recall)': [f'{recall_score(target, predictions):.0%}'],\n",
    "        'AUC-ROC метрика': [f'{roc_auc_score(target, probabilities):.0%}'],\n",
    "        'Точность (precision)': [f'{precision_score(target, predictions):.0%}'],\n",
    "        'Доля правильных ответов (accuracy)': [f'{accuracy_score(target, predictions):.0%}'],\n",
    "    }\n",
    "    df_metrics = pd.DataFrame.from_dict(metrics, orient='index')\n",
    "    df_metrics = df_metrics.rename(columns={0: model_name})\n",
    "    display(df_metrics)"
   ]
  },
  {
   "cell_type": "markdown",
   "metadata": {},
   "source": [
    "#### Модель «Дерево решений» "
   ]
  },
  {
   "cell_type": "code",
   "execution_count": 17,
   "metadata": {},
   "outputs": [
    {
     "name": "stdout",
     "output_type": "stream",
     "text": [
      "Наилучшая метрика F1: 53.4% при глубине 6\n"
     ]
    }
   ],
   "source": [
    "best_depth = 0\n",
    "best_f1 = 0\n",
    "for depth in range(1, 20):\n",
    "    model = DecisionTreeClassifier(max_depth=depth, random_state=12345)\n",
    "    model.fit(features_train, target_train)\n",
    "    predictions_valid = model.predict(features_valid)\n",
    "    f1 = f1_score(target_valid, predictions_valid)\n",
    "    if f1 > best_f1:\n",
    "        best_f1 = f1\n",
    "        best_depth = depth\n",
    "print(f'Наилучшая метрика F1: {best_f1:.1%} при глубине {best_depth}')"
   ]
  },
  {
   "cell_type": "markdown",
   "metadata": {},
   "source": [
    "##### Метрики"
   ]
  },
  {
   "cell_type": "code",
   "execution_count": 18,
   "metadata": {},
   "outputs": [
    {
     "data": {
      "text/html": [
       "<div>\n",
       "<style scoped>\n",
       "    .dataframe tbody tr th:only-of-type {\n",
       "        vertical-align: middle;\n",
       "    }\n",
       "\n",
       "    .dataframe tbody tr th {\n",
       "        vertical-align: top;\n",
       "    }\n",
       "\n",
       "    .dataframe thead th {\n",
       "        text-align: right;\n",
       "    }\n",
       "</style>\n",
       "<table border=\"1\" class=\"dataframe\">\n",
       "  <thead>\n",
       "    <tr style=\"text-align: right;\">\n",
       "      <th></th>\n",
       "      <th>Дерево решений</th>\n",
       "    </tr>\n",
       "  </thead>\n",
       "  <tbody>\n",
       "    <tr>\n",
       "      <th>F1-мера</th>\n",
       "      <td>53%</td>\n",
       "    </tr>\n",
       "    <tr>\n",
       "      <th>Полнота (recall)</th>\n",
       "      <td>41%</td>\n",
       "    </tr>\n",
       "    <tr>\n",
       "      <th>AUC-ROC метрика</th>\n",
       "      <td>84%</td>\n",
       "    </tr>\n",
       "    <tr>\n",
       "      <th>Точность (precision)</th>\n",
       "      <td>76%</td>\n",
       "    </tr>\n",
       "    <tr>\n",
       "      <th>Доля правильных ответов (accuracy)</th>\n",
       "      <td>85%</td>\n",
       "    </tr>\n",
       "  </tbody>\n",
       "</table>\n",
       "</div>"
      ],
      "text/plain": [
       "                                   Дерево решений\n",
       "F1-мера                                       53%\n",
       "Полнота (recall)                              41%\n",
       "AUC-ROC метрика                               84%\n",
       "Точность (precision)                          76%\n",
       "Доля правильных ответов (accuracy)            85%"
      ]
     },
     "metadata": {},
     "output_type": "display_data"
    }
   ],
   "source": [
    "model = DecisionTreeClassifier(max_depth=best_depth, random_state=12345)\n",
    "model.fit(features_train, target_train)\n",
    "show_metrics(model, features_valid, target_valid, 'Дерево решений')"
   ]
  },
  {
   "cell_type": "markdown",
   "metadata": {},
   "source": [
    "#### Модель «Случайный лес»"
   ]
  },
  {
   "cell_type": "code",
   "execution_count": 19,
   "metadata": {},
   "outputs": [
    {
     "name": "stdout",
     "output_type": "stream",
     "text": [
      "Наилучшая метрика F1: 56.0% при количестве «деревьев» 51 и при глубине 17\n"
     ]
    }
   ],
   "source": [
    "best_depth = 0\n",
    "best_est = 0\n",
    "best_f1 = 0\n",
    "for est in range(51, 52, 1):\n",
    "    for depth in range(17, 18):\n",
    "        model = RandomForestClassifier(n_estimators=est, max_depth=depth, random_state=12345)\n",
    "        model.fit(features_train, target_train)\n",
    "        predictions_valid = model.predict(features_valid)\n",
    "        f1 = f1_score(target_valid, predictions_valid)\n",
    "        if f1 > best_f1:\n",
    "            best_f1 = f1\n",
    "            best_depth = depth\n",
    "            best_est = est\n",
    "print(f'Наилучшая метрика F1: {best_f1:.1%} при количестве «деревьев» {best_est} и при глубине {best_depth}')"
   ]
  },
  {
   "cell_type": "markdown",
   "metadata": {},
   "source": [
    "##### Метрики"
   ]
  },
  {
   "cell_type": "code",
   "execution_count": 20,
   "metadata": {},
   "outputs": [
    {
     "data": {
      "text/html": [
       "<div>\n",
       "<style scoped>\n",
       "    .dataframe tbody tr th:only-of-type {\n",
       "        vertical-align: middle;\n",
       "    }\n",
       "\n",
       "    .dataframe tbody tr th {\n",
       "        vertical-align: top;\n",
       "    }\n",
       "\n",
       "    .dataframe thead th {\n",
       "        text-align: right;\n",
       "    }\n",
       "</style>\n",
       "<table border=\"1\" class=\"dataframe\">\n",
       "  <thead>\n",
       "    <tr style=\"text-align: right;\">\n",
       "      <th></th>\n",
       "      <th>Случайный лес</th>\n",
       "    </tr>\n",
       "  </thead>\n",
       "  <tbody>\n",
       "    <tr>\n",
       "      <th>F1-мера</th>\n",
       "      <td>56%</td>\n",
       "    </tr>\n",
       "    <tr>\n",
       "      <th>Полнота (recall)</th>\n",
       "      <td>45%</td>\n",
       "    </tr>\n",
       "    <tr>\n",
       "      <th>AUC-ROC метрика</th>\n",
       "      <td>85%</td>\n",
       "    </tr>\n",
       "    <tr>\n",
       "      <th>Точность (precision)</th>\n",
       "      <td>74%</td>\n",
       "    </tr>\n",
       "    <tr>\n",
       "      <th>Доля правильных ответов (accuracy)</th>\n",
       "      <td>85%</td>\n",
       "    </tr>\n",
       "  </tbody>\n",
       "</table>\n",
       "</div>"
      ],
      "text/plain": [
       "                                   Случайный лес\n",
       "F1-мера                                      56%\n",
       "Полнота (recall)                             45%\n",
       "AUC-ROC метрика                              85%\n",
       "Точность (precision)                         74%\n",
       "Доля правильных ответов (accuracy)           85%"
      ]
     },
     "metadata": {},
     "output_type": "display_data"
    }
   ],
   "source": [
    "model = RandomForestClassifier(n_estimators=best_est, max_depth=best_depth, random_state=12345)\n",
    "model.fit(features_train, target_train)\n",
    "show_metrics(model, features_valid, target_valid, 'Случайный лес')"
   ]
  },
  {
   "cell_type": "markdown",
   "metadata": {},
   "source": [
    " #### Модель «Логистическая регрессия»"
   ]
  },
  {
   "cell_type": "code",
   "execution_count": 21,
   "metadata": {},
   "outputs": [
    {
     "data": {
      "text/html": [
       "<div>\n",
       "<style scoped>\n",
       "    .dataframe tbody tr th:only-of-type {\n",
       "        vertical-align: middle;\n",
       "    }\n",
       "\n",
       "    .dataframe tbody tr th {\n",
       "        vertical-align: top;\n",
       "    }\n",
       "\n",
       "    .dataframe thead th {\n",
       "        text-align: right;\n",
       "    }\n",
       "</style>\n",
       "<table border=\"1\" class=\"dataframe\">\n",
       "  <thead>\n",
       "    <tr style=\"text-align: right;\">\n",
       "      <th></th>\n",
       "      <th>Логистическая регрессия</th>\n",
       "    </tr>\n",
       "  </thead>\n",
       "  <tbody>\n",
       "    <tr>\n",
       "      <th>F1-мера</th>\n",
       "      <td>27%</td>\n",
       "    </tr>\n",
       "    <tr>\n",
       "      <th>Полнота (recall)</th>\n",
       "      <td>18%</td>\n",
       "    </tr>\n",
       "    <tr>\n",
       "      <th>AUC-ROC метрика</th>\n",
       "      <td>74%</td>\n",
       "    </tr>\n",
       "    <tr>\n",
       "      <th>Точность (precision)</th>\n",
       "      <td>52%</td>\n",
       "    </tr>\n",
       "    <tr>\n",
       "      <th>Доля правильных ответов (accuracy)</th>\n",
       "      <td>79%</td>\n",
       "    </tr>\n",
       "  </tbody>\n",
       "</table>\n",
       "</div>"
      ],
      "text/plain": [
       "                                   Логистическая регрессия\n",
       "F1-мера                                                27%\n",
       "Полнота (recall)                                       18%\n",
       "AUC-ROC метрика                                        74%\n",
       "Точность (precision)                                   52%\n",
       "Доля правильных ответов (accuracy)                     79%"
      ]
     },
     "metadata": {},
     "output_type": "display_data"
    }
   ],
   "source": [
    "model = LogisticRegression(solver='liblinear')\n",
    "model.fit(features_train, target_train)\n",
    "show_metrics(model, features_valid, target_valid, 'Логистическая регрессия')"
   ]
  },
  {
   "cell_type": "markdown",
   "metadata": {},
   "source": [
    "***\n",
    "### Вывод\n",
    "\n",
    "* Наиболее близкая метрика F1 у модели «Случайный лес».\n",
    "* Тем не менее даже у этой модели метрика F1 — 56% — меньше необходимой (59%).<br><br>\n",
    "***"
   ]
  },
  {
   "cell_type": "markdown",
   "metadata": {},
   "source": [
    "## Борьба с дисбалансом"
   ]
  },
  {
   "cell_type": "markdown",
   "metadata": {},
   "source": [
    "### Расчёт метрик с параметром балансировки «весов»."
   ]
  },
  {
   "cell_type": "markdown",
   "metadata": {},
   "source": [
    "####  Модель «Дерево решений»"
   ]
  },
  {
   "cell_type": "code",
   "execution_count": 22,
   "metadata": {},
   "outputs": [
    {
     "name": "stdout",
     "output_type": "stream",
     "text": [
      "Наилучшая метрика F1: 58.1% при глубине 5\n"
     ]
    }
   ],
   "source": [
    "best_depth = 0\n",
    "best_f1 = 0\n",
    "for depth in range(1, 10):\n",
    "    model = DecisionTreeClassifier(max_depth=depth, random_state=12345, class_weight='balanced')\n",
    "    model.fit(features_train, target_train)\n",
    "    predictions_valid = model.predict(features_valid)\n",
    "    f1 = f1_score(target_valid, predictions_valid)\n",
    "    if f1 > best_f1:\n",
    "        best_f1 = f1\n",
    "        best_depth = depth\n",
    "print(f'Наилучшая метрика F1: {best_f1:.1%} при глубине {best_depth}')"
   ]
  },
  {
   "cell_type": "markdown",
   "metadata": {},
   "source": [
    "##### Метрики"
   ]
  },
  {
   "cell_type": "code",
   "execution_count": 23,
   "metadata": {},
   "outputs": [
    {
     "data": {
      "text/html": [
       "<div>\n",
       "<style scoped>\n",
       "    .dataframe tbody tr th:only-of-type {\n",
       "        vertical-align: middle;\n",
       "    }\n",
       "\n",
       "    .dataframe tbody tr th {\n",
       "        vertical-align: top;\n",
       "    }\n",
       "\n",
       "    .dataframe thead th {\n",
       "        text-align: right;\n",
       "    }\n",
       "</style>\n",
       "<table border=\"1\" class=\"dataframe\">\n",
       "  <thead>\n",
       "    <tr style=\"text-align: right;\">\n",
       "      <th></th>\n",
       "      <th>Дерево решений</th>\n",
       "    </tr>\n",
       "  </thead>\n",
       "  <tbody>\n",
       "    <tr>\n",
       "      <th>F1-мера</th>\n",
       "      <td>58%</td>\n",
       "    </tr>\n",
       "    <tr>\n",
       "      <th>Полнота (recall)</th>\n",
       "      <td>66%</td>\n",
       "    </tr>\n",
       "    <tr>\n",
       "      <th>AUC-ROC метрика</th>\n",
       "      <td>84%</td>\n",
       "    </tr>\n",
       "    <tr>\n",
       "      <th>Точность (precision)</th>\n",
       "      <td>52%</td>\n",
       "    </tr>\n",
       "    <tr>\n",
       "      <th>Доля правильных ответов (accuracy)</th>\n",
       "      <td>80%</td>\n",
       "    </tr>\n",
       "  </tbody>\n",
       "</table>\n",
       "</div>"
      ],
      "text/plain": [
       "                                   Дерево решений\n",
       "F1-мера                                       58%\n",
       "Полнота (recall)                              66%\n",
       "AUC-ROC метрика                               84%\n",
       "Точность (precision)                          52%\n",
       "Доля правильных ответов (accuracy)            80%"
      ]
     },
     "metadata": {},
     "output_type": "display_data"
    }
   ],
   "source": [
    "model = DecisionTreeClassifier(max_depth=best_depth, random_state=12345, class_weight='balanced')\n",
    "model.fit(features_train, target_train)\n",
    "show_metrics(model, features_valid, target_valid, 'Дерево решений')"
   ]
  },
  {
   "cell_type": "markdown",
   "metadata": {},
   "source": [
    "#### Модель «Случайный лес»"
   ]
  },
  {
   "cell_type": "code",
   "execution_count": 24,
   "metadata": {},
   "outputs": [
    {
     "name": "stdout",
     "output_type": "stream",
     "text": [
      "Наилучшая метрика F1: 62.3% при количестве «деревьев» 101 и при глубине 8\n"
     ]
    }
   ],
   "source": [
    "best_depth = 0\n",
    "best_est = 0\n",
    "best_f1 = 0\n",
    "for est in range(100, 102, 1):\n",
    "    for depth in range(8, 9):\n",
    "        model = RandomForestClassifier(n_estimators=est, max_depth=depth, random_state=12345, class_weight='balanced')\n",
    "        model.fit(features_train, target_train)\n",
    "        predictions_valid = model.predict(features_valid)\n",
    "        f1 = f1_score(target_valid, predictions_valid)\n",
    "        if f1 > best_f1:\n",
    "            best_f1 = f1\n",
    "            best_depth = depth\n",
    "            best_est = est\n",
    "print(f'Наилучшая метрика F1: {best_f1:.1%} при количестве «деревьев» {best_est} и при глубине {best_depth}')"
   ]
  },
  {
   "cell_type": "markdown",
   "metadata": {},
   "source": [
    "##### Метрики"
   ]
  },
  {
   "cell_type": "code",
   "execution_count": 25,
   "metadata": {},
   "outputs": [
    {
     "data": {
      "text/html": [
       "<div>\n",
       "<style scoped>\n",
       "    .dataframe tbody tr th:only-of-type {\n",
       "        vertical-align: middle;\n",
       "    }\n",
       "\n",
       "    .dataframe tbody tr th {\n",
       "        vertical-align: top;\n",
       "    }\n",
       "\n",
       "    .dataframe thead th {\n",
       "        text-align: right;\n",
       "    }\n",
       "</style>\n",
       "<table border=\"1\" class=\"dataframe\">\n",
       "  <thead>\n",
       "    <tr style=\"text-align: right;\">\n",
       "      <th></th>\n",
       "      <th>Случайный лес</th>\n",
       "    </tr>\n",
       "  </thead>\n",
       "  <tbody>\n",
       "    <tr>\n",
       "      <th>F1-мера</th>\n",
       "      <td>62%</td>\n",
       "    </tr>\n",
       "    <tr>\n",
       "      <th>Полнота (recall)</th>\n",
       "      <td>68%</td>\n",
       "    </tr>\n",
       "    <tr>\n",
       "      <th>AUC-ROC метрика</th>\n",
       "      <td>86%</td>\n",
       "    </tr>\n",
       "    <tr>\n",
       "      <th>Точность (precision)</th>\n",
       "      <td>58%</td>\n",
       "    </tr>\n",
       "    <tr>\n",
       "      <th>Доля правильных ответов (accuracy)</th>\n",
       "      <td>83%</td>\n",
       "    </tr>\n",
       "  </tbody>\n",
       "</table>\n",
       "</div>"
      ],
      "text/plain": [
       "                                   Случайный лес\n",
       "F1-мера                                      62%\n",
       "Полнота (recall)                             68%\n",
       "AUC-ROC метрика                              86%\n",
       "Точность (precision)                         58%\n",
       "Доля правильных ответов (accuracy)           83%"
      ]
     },
     "metadata": {},
     "output_type": "display_data"
    }
   ],
   "source": [
    "model = RandomForestClassifier(n_estimators=best_est, max_depth=best_depth, random_state=12345, class_weight='balanced')\n",
    "model.fit(features_train, target_train)\n",
    "show_metrics(model, features_valid, target_valid, 'Случайный лес')"
   ]
  },
  {
   "cell_type": "markdown",
   "metadata": {},
   "source": [
    "#### Модель «Логистическая регрессия»"
   ]
  },
  {
   "cell_type": "code",
   "execution_count": 26,
   "metadata": {},
   "outputs": [
    {
     "data": {
      "text/html": [
       "<div>\n",
       "<style scoped>\n",
       "    .dataframe tbody tr th:only-of-type {\n",
       "        vertical-align: middle;\n",
       "    }\n",
       "\n",
       "    .dataframe tbody tr th {\n",
       "        vertical-align: top;\n",
       "    }\n",
       "\n",
       "    .dataframe thead th {\n",
       "        text-align: right;\n",
       "    }\n",
       "</style>\n",
       "<table border=\"1\" class=\"dataframe\">\n",
       "  <thead>\n",
       "    <tr style=\"text-align: right;\">\n",
       "      <th></th>\n",
       "      <th>Логистическая регрессия</th>\n",
       "    </tr>\n",
       "  </thead>\n",
       "  <tbody>\n",
       "    <tr>\n",
       "      <th>F1-мера</th>\n",
       "      <td>48%</td>\n",
       "    </tr>\n",
       "    <tr>\n",
       "      <th>Полнота (recall)</th>\n",
       "      <td>65%</td>\n",
       "    </tr>\n",
       "    <tr>\n",
       "      <th>AUC-ROC метрика</th>\n",
       "      <td>74%</td>\n",
       "    </tr>\n",
       "    <tr>\n",
       "      <th>Точность (precision)</th>\n",
       "      <td>38%</td>\n",
       "    </tr>\n",
       "    <tr>\n",
       "      <th>Доля правильных ответов (accuracy)</th>\n",
       "      <td>70%</td>\n",
       "    </tr>\n",
       "  </tbody>\n",
       "</table>\n",
       "</div>"
      ],
      "text/plain": [
       "                                   Логистическая регрессия\n",
       "F1-мера                                                48%\n",
       "Полнота (recall)                                       65%\n",
       "AUC-ROC метрика                                        74%\n",
       "Точность (precision)                                   38%\n",
       "Доля правильных ответов (accuracy)                     70%"
      ]
     },
     "metadata": {},
     "output_type": "display_data"
    }
   ],
   "source": [
    "model = LogisticRegression(solver='liblinear', class_weight='balanced')\n",
    "model.fit(features_train, target_train)\n",
    "show_metrics(model, features_valid, target_valid, 'Логистическая регрессия')"
   ]
  },
  {
   "cell_type": "markdown",
   "metadata": {},
   "source": [
    "#### Промежуточный вывод\n",
    "\n",
    "* Наиболее близкая метрика F1 всё ещё у модели «Случайный лес».</br>\n",
    "* Метрика F1 — 62% — стала выше необходимой (59%)."
   ]
  },
  {
   "cell_type": "markdown",
   "metadata": {},
   "source": [
    "### Балансировка методами upsampling и downsampling"
   ]
  },
  {
   "cell_type": "markdown",
   "metadata": {},
   "source": [
    "Разбиение целевого признака на подклассы."
   ]
  },
  {
   "cell_type": "code",
   "execution_count": 27,
   "metadata": {},
   "outputs": [
    {
     "name": "stdout",
     "output_type": "stream",
     "text": [
      "Количество target_one: 2037\n",
      "Количество target_zero: 7963\n",
      "Количество features_one: 2037\n",
      "Количество features_zero: 7963\n"
     ]
    }
   ],
   "source": [
    "target_one = target[target == 1]\n",
    "target_zero = target[target == 0]\n",
    "features_one = features[target == 1]\n",
    "features_zero = features[target == 0]\n",
    "print(f'Количество target_one: {target_one.count():.0f}\\nКоличество target_zero: {target_zero.count():.0f}')\n",
    "print(f'Количество features_one: {features_one[\"age\"].count():.0f}\\nКоличество features_zero: {features_zero[\"age\"].count():.0f}')"
   ]
  },
  {
   "cell_type": "markdown",
   "metadata": {},
   "source": [
    "Наименьший класс — target_one / features_one — ушедшие."
   ]
  },
  {
   "cell_type": "markdown",
   "metadata": {},
   "source": [
    "#### Метод upsampling"
   ]
  },
  {
   "cell_type": "code",
   "execution_count": 28,
   "metadata": {},
   "outputs": [],
   "source": [
    "repeat = 5\n",
    "upsampling_features = pd.concat([features_zero] + [features_one]*repeat)\n",
    "upsampling_target = pd.concat([target_zero] + [target_one]*repeat)\n",
    "upsampling_features, upsampling_target = shuffle(upsampling_features, upsampling_target, random_state=12345)"
   ]
  },
  {
   "cell_type": "markdown",
   "metadata": {},
   "source": [
    "##### Модель «Дерево решений»"
   ]
  },
  {
   "cell_type": "code",
   "execution_count": 29,
   "metadata": {},
   "outputs": [
    {
     "name": "stdout",
     "output_type": "stream",
     "text": [
      "Наилучшая метрика F1: 39.2% при глубине 4\n"
     ]
    }
   ],
   "source": [
    "best_depth = 0\n",
    "best_f1 = 0\n",
    "for depth in range(1, 10):\n",
    "    model = DecisionTreeClassifier(max_depth=depth, random_state=12345, class_weight='balanced')\n",
    "    model.fit(upsampling_features, upsampling_target)\n",
    "    predictions_valid = model.predict(features_valid)\n",
    "    f1 = f1_score(target_valid, predictions_valid)\n",
    "    if f1 > best_f1:\n",
    "        best_f1 = f1\n",
    "        best_depth = depth\n",
    "print(f'Наилучшая метрика F1: {best_f1:.1%} при глубине {best_depth}')"
   ]
  },
  {
   "cell_type": "markdown",
   "metadata": {},
   "source": [
    "###### Метрики"
   ]
  },
  {
   "cell_type": "code",
   "execution_count": 30,
   "metadata": {},
   "outputs": [
    {
     "data": {
      "text/html": [
       "<div>\n",
       "<style scoped>\n",
       "    .dataframe tbody tr th:only-of-type {\n",
       "        vertical-align: middle;\n",
       "    }\n",
       "\n",
       "    .dataframe tbody tr th {\n",
       "        vertical-align: top;\n",
       "    }\n",
       "\n",
       "    .dataframe thead th {\n",
       "        text-align: right;\n",
       "    }\n",
       "</style>\n",
       "<table border=\"1\" class=\"dataframe\">\n",
       "  <thead>\n",
       "    <tr style=\"text-align: right;\">\n",
       "      <th></th>\n",
       "      <th>Дерево решений</th>\n",
       "    </tr>\n",
       "  </thead>\n",
       "  <tbody>\n",
       "    <tr>\n",
       "      <th>F1-мера</th>\n",
       "      <td>39%</td>\n",
       "    </tr>\n",
       "    <tr>\n",
       "      <th>Полнота (recall)</th>\n",
       "      <td>45%</td>\n",
       "    </tr>\n",
       "    <tr>\n",
       "      <th>AUC-ROC метрика</th>\n",
       "      <td>62%</td>\n",
       "    </tr>\n",
       "    <tr>\n",
       "      <th>Точность (precision)</th>\n",
       "      <td>35%</td>\n",
       "    </tr>\n",
       "    <tr>\n",
       "      <th>Доля правильных ответов (accuracy)</th>\n",
       "      <td>71%</td>\n",
       "    </tr>\n",
       "  </tbody>\n",
       "</table>\n",
       "</div>"
      ],
      "text/plain": [
       "                                   Дерево решений\n",
       "F1-мера                                       39%\n",
       "Полнота (recall)                              45%\n",
       "AUC-ROC метрика                               62%\n",
       "Точность (precision)                          35%\n",
       "Доля правильных ответов (accuracy)            71%"
      ]
     },
     "metadata": {},
     "output_type": "display_data"
    }
   ],
   "source": [
    "model = DecisionTreeClassifier(max_depth=best_depth, random_state=12345, class_weight='balanced')\n",
    "model.fit(upsampling_features, upsampling_target)\n",
    "show_metrics(model, features_valid, target_valid, 'Дерево решений')"
   ]
  },
  {
   "cell_type": "markdown",
   "metadata": {},
   "source": [
    "##### Модель «Случайный лес»"
   ]
  },
  {
   "cell_type": "code",
   "execution_count": 31,
   "metadata": {},
   "outputs": [
    {
     "name": "stdout",
     "output_type": "stream",
     "text": [
      "Наилучшая метрика F1: 39.2% при количестве «деревьев» 1 и при глубине 2\n"
     ]
    }
   ],
   "source": [
    "best_depth = 0\n",
    "best_est = 0\n",
    "best_f1 = 0\n",
    "for est in range(1, 11, 1):\n",
    "    for depth in range(1, 10):\n",
    "        model = RandomForestClassifier(n_estimators=est, max_depth=depth, random_state=12345, class_weight='balanced')\n",
    "        model.fit(upsampling_features, upsampling_target)\n",
    "        predictions_valid = model.predict(features_valid)\n",
    "        f1 = f1_score(target_valid, predictions_valid)\n",
    "        if f1 > best_f1:\n",
    "            best_f1 = f1\n",
    "            best_depth = depth\n",
    "            best_est = est\n",
    "print(f'Наилучшая метрика F1: {best_f1:.1%} при количестве «деревьев» {best_est} и при глубине {best_depth}')"
   ]
  },
  {
   "cell_type": "markdown",
   "metadata": {},
   "source": [
    "###### Метрики"
   ]
  },
  {
   "cell_type": "code",
   "execution_count": 32,
   "metadata": {},
   "outputs": [
    {
     "data": {
      "text/html": [
       "<div>\n",
       "<style scoped>\n",
       "    .dataframe tbody tr th:only-of-type {\n",
       "        vertical-align: middle;\n",
       "    }\n",
       "\n",
       "    .dataframe tbody tr th {\n",
       "        vertical-align: top;\n",
       "    }\n",
       "\n",
       "    .dataframe thead th {\n",
       "        text-align: right;\n",
       "    }\n",
       "</style>\n",
       "<table border=\"1\" class=\"dataframe\">\n",
       "  <thead>\n",
       "    <tr style=\"text-align: right;\">\n",
       "      <th></th>\n",
       "      <th>Случайный лес</th>\n",
       "    </tr>\n",
       "  </thead>\n",
       "  <tbody>\n",
       "    <tr>\n",
       "      <th>F1-мера</th>\n",
       "      <td>39%</td>\n",
       "    </tr>\n",
       "    <tr>\n",
       "      <th>Полнота (recall)</th>\n",
       "      <td>45%</td>\n",
       "    </tr>\n",
       "    <tr>\n",
       "      <th>AUC-ROC метрика</th>\n",
       "      <td>62%</td>\n",
       "    </tr>\n",
       "    <tr>\n",
       "      <th>Точность (precision)</th>\n",
       "      <td>35%</td>\n",
       "    </tr>\n",
       "    <tr>\n",
       "      <th>Доля правильных ответов (accuracy)</th>\n",
       "      <td>71%</td>\n",
       "    </tr>\n",
       "  </tbody>\n",
       "</table>\n",
       "</div>"
      ],
      "text/plain": [
       "                                   Случайный лес\n",
       "F1-мера                                      39%\n",
       "Полнота (recall)                             45%\n",
       "AUC-ROC метрика                              62%\n",
       "Точность (precision)                         35%\n",
       "Доля правильных ответов (accuracy)           71%"
      ]
     },
     "metadata": {},
     "output_type": "display_data"
    }
   ],
   "source": [
    "model = RandomForestClassifier(n_estimators=best_est, max_depth=best_depth, random_state=12345, class_weight='balanced')\n",
    "model.fit(upsampling_features, upsampling_target)\n",
    "show_metrics(model, features_valid, target_valid, 'Случайный лес')"
   ]
  },
  {
   "cell_type": "markdown",
   "metadata": {},
   "source": [
    "##### Модель «Логистическая регрессия»"
   ]
  },
  {
   "cell_type": "code",
   "execution_count": 33,
   "metadata": {},
   "outputs": [
    {
     "data": {
      "text/html": [
       "<div>\n",
       "<style scoped>\n",
       "    .dataframe tbody tr th:only-of-type {\n",
       "        vertical-align: middle;\n",
       "    }\n",
       "\n",
       "    .dataframe tbody tr th {\n",
       "        vertical-align: top;\n",
       "    }\n",
       "\n",
       "    .dataframe thead th {\n",
       "        text-align: right;\n",
       "    }\n",
       "</style>\n",
       "<table border=\"1\" class=\"dataframe\">\n",
       "  <thead>\n",
       "    <tr style=\"text-align: right;\">\n",
       "      <th></th>\n",
       "      <th>Логистическая регрессия</th>\n",
       "    </tr>\n",
       "  </thead>\n",
       "  <tbody>\n",
       "    <tr>\n",
       "      <th>F1-мера</th>\n",
       "      <td>48%</td>\n",
       "    </tr>\n",
       "    <tr>\n",
       "      <th>Полнота (recall)</th>\n",
       "      <td>57%</td>\n",
       "    </tr>\n",
       "    <tr>\n",
       "      <th>AUC-ROC метрика</th>\n",
       "      <td>72%</td>\n",
       "    </tr>\n",
       "    <tr>\n",
       "      <th>Точность (precision)</th>\n",
       "      <td>41%</td>\n",
       "    </tr>\n",
       "    <tr>\n",
       "      <th>Доля правильных ответов (accuracy)</th>\n",
       "      <td>73%</td>\n",
       "    </tr>\n",
       "  </tbody>\n",
       "</table>\n",
       "</div>"
      ],
      "text/plain": [
       "                                   Логистическая регрессия\n",
       "F1-мера                                                48%\n",
       "Полнота (recall)                                       57%\n",
       "AUC-ROC метрика                                        72%\n",
       "Точность (precision)                                   41%\n",
       "Доля правильных ответов (accuracy)                     73%"
      ]
     },
     "metadata": {},
     "output_type": "display_data"
    }
   ],
   "source": [
    "model = LogisticRegression(solver='liblinear', class_weight='balanced')\n",
    "model.fit(upsampling_features, upsampling_target)\n",
    "show_metrics(model, features_valid, target_valid, 'Логистическая регрессия')"
   ]
  },
  {
   "cell_type": "markdown",
   "metadata": {},
   "source": [
    "#### Метод downsampling"
   ]
  },
  {
   "cell_type": "code",
   "execution_count": 34,
   "metadata": {},
   "outputs": [],
   "source": [
    "fraction = 0.25\n",
    "downsampling_features = pd.concat([features_zero.sample(frac=fraction, random_state=12345)] + [features_one])\n",
    "downsampling_target = pd.concat([target_zero.sample(frac=fraction, random_state=12345)] + [target_one])\n",
    "downsampling_features, downsampling_target = shuffle(downsampling_features, downsampling_target, random_state=12345)"
   ]
  },
  {
   "cell_type": "markdown",
   "metadata": {},
   "source": [
    "##### Модель «Дерево решений»"
   ]
  },
  {
   "cell_type": "code",
   "execution_count": 35,
   "metadata": {},
   "outputs": [
    {
     "name": "stdout",
     "output_type": "stream",
     "text": [
      "Наилучшая метрика F1: 39.2% при глубине 4\n"
     ]
    }
   ],
   "source": [
    "best_depth = 0\n",
    "best_f1 = 0\n",
    "for depth in range(1, 5):\n",
    "    model = DecisionTreeClassifier(max_depth=depth, random_state=12345, class_weight='balanced')\n",
    "    model.fit(downsampling_features, downsampling_target)\n",
    "    predictions_valid = model.predict(features_valid)\n",
    "    f1 = f1_score(target_valid, predictions_valid)\n",
    "    if f1 > best_f1:\n",
    "        best_f1 = f1\n",
    "        best_depth = depth\n",
    "print(f'Наилучшая метрика F1: {best_f1:.1%} при глубине {best_depth}')"
   ]
  },
  {
   "cell_type": "markdown",
   "metadata": {},
   "source": [
    "###### Метрики"
   ]
  },
  {
   "cell_type": "code",
   "execution_count": 36,
   "metadata": {},
   "outputs": [
    {
     "data": {
      "text/html": [
       "<div>\n",
       "<style scoped>\n",
       "    .dataframe tbody tr th:only-of-type {\n",
       "        vertical-align: middle;\n",
       "    }\n",
       "\n",
       "    .dataframe tbody tr th {\n",
       "        vertical-align: top;\n",
       "    }\n",
       "\n",
       "    .dataframe thead th {\n",
       "        text-align: right;\n",
       "    }\n",
       "</style>\n",
       "<table border=\"1\" class=\"dataframe\">\n",
       "  <thead>\n",
       "    <tr style=\"text-align: right;\">\n",
       "      <th></th>\n",
       "      <th>Дерево решений</th>\n",
       "    </tr>\n",
       "  </thead>\n",
       "  <tbody>\n",
       "    <tr>\n",
       "      <th>F1-мера</th>\n",
       "      <td>39%</td>\n",
       "    </tr>\n",
       "    <tr>\n",
       "      <th>Полнота (recall)</th>\n",
       "      <td>45%</td>\n",
       "    </tr>\n",
       "    <tr>\n",
       "      <th>AUC-ROC метрика</th>\n",
       "      <td>62%</td>\n",
       "    </tr>\n",
       "    <tr>\n",
       "      <th>Точность (precision)</th>\n",
       "      <td>35%</td>\n",
       "    </tr>\n",
       "    <tr>\n",
       "      <th>Доля правильных ответов (accuracy)</th>\n",
       "      <td>71%</td>\n",
       "    </tr>\n",
       "  </tbody>\n",
       "</table>\n",
       "</div>"
      ],
      "text/plain": [
       "                                   Дерево решений\n",
       "F1-мера                                       39%\n",
       "Полнота (recall)                              45%\n",
       "AUC-ROC метрика                               62%\n",
       "Точность (precision)                          35%\n",
       "Доля правильных ответов (accuracy)            71%"
      ]
     },
     "metadata": {},
     "output_type": "display_data"
    }
   ],
   "source": [
    "model = DecisionTreeClassifier(max_depth=best_depth, random_state=12345, class_weight='balanced')\n",
    "model.fit(downsampling_features, downsampling_target)\n",
    "show_metrics(model, features_valid, target_valid, 'Дерево решений')"
   ]
  },
  {
   "cell_type": "markdown",
   "metadata": {},
   "source": [
    "##### Модель «Случайный лес»"
   ]
  },
  {
   "cell_type": "code",
   "execution_count": 37,
   "metadata": {},
   "outputs": [
    {
     "name": "stdout",
     "output_type": "stream",
     "text": [
      "Наилучшая метрика F1: 41.4% при количестве «деревьев» 37 и при глубине 6\n"
     ]
    }
   ],
   "source": [
    "best_depth = 0\n",
    "best_est = 0\n",
    "best_f1 = 0\n",
    "for est in range(35, 40, 1):\n",
    "    for depth in range(6, 7):\n",
    "        model = RandomForestClassifier(n_estimators=est, max_depth=depth, random_state=12345, class_weight='balanced')\n",
    "        model.fit(downsampling_features, downsampling_target)\n",
    "        predictions_valid = model.predict(features_valid)\n",
    "        f1 = f1_score(target_valid, predictions_valid)\n",
    "        if f1 > best_f1:\n",
    "            best_f1 = f1\n",
    "            best_depth = depth\n",
    "            best_est = est\n",
    "print(f'Наилучшая метрика F1: {best_f1:.1%} при количестве «деревьев» {best_est} и при глубине {best_depth}')"
   ]
  },
  {
   "cell_type": "markdown",
   "metadata": {},
   "source": [
    "###### Метрики"
   ]
  },
  {
   "cell_type": "code",
   "execution_count": 38,
   "metadata": {},
   "outputs": [
    {
     "data": {
      "text/html": [
       "<div>\n",
       "<style scoped>\n",
       "    .dataframe tbody tr th:only-of-type {\n",
       "        vertical-align: middle;\n",
       "    }\n",
       "\n",
       "    .dataframe tbody tr th {\n",
       "        vertical-align: top;\n",
       "    }\n",
       "\n",
       "    .dataframe thead th {\n",
       "        text-align: right;\n",
       "    }\n",
       "</style>\n",
       "<table border=\"1\" class=\"dataframe\">\n",
       "  <thead>\n",
       "    <tr style=\"text-align: right;\">\n",
       "      <th></th>\n",
       "      <th>Случайный лес</th>\n",
       "    </tr>\n",
       "  </thead>\n",
       "  <tbody>\n",
       "    <tr>\n",
       "      <th>F1-мера</th>\n",
       "      <td>41%</td>\n",
       "    </tr>\n",
       "    <tr>\n",
       "      <th>Полнота (recall)</th>\n",
       "      <td>58%</td>\n",
       "    </tr>\n",
       "    <tr>\n",
       "      <th>AUC-ROC метрика</th>\n",
       "      <td>65%</td>\n",
       "    </tr>\n",
       "    <tr>\n",
       "      <th>Точность (precision)</th>\n",
       "      <td>32%</td>\n",
       "    </tr>\n",
       "    <tr>\n",
       "      <th>Доля правильных ответов (accuracy)</th>\n",
       "      <td>65%</td>\n",
       "    </tr>\n",
       "  </tbody>\n",
       "</table>\n",
       "</div>"
      ],
      "text/plain": [
       "                                   Случайный лес\n",
       "F1-мера                                      41%\n",
       "Полнота (recall)                             58%\n",
       "AUC-ROC метрика                              65%\n",
       "Точность (precision)                         32%\n",
       "Доля правильных ответов (accuracy)           65%"
      ]
     },
     "metadata": {},
     "output_type": "display_data"
    }
   ],
   "source": [
    "model = RandomForestClassifier(n_estimators=best_est, max_depth=best_depth, random_state=12345, class_weight='balanced')\n",
    "model.fit(downsampling_features, downsampling_target)\n",
    "show_metrics(model, features_valid, target_valid, 'Случайный лес')"
   ]
  },
  {
   "cell_type": "markdown",
   "metadata": {},
   "source": [
    "##### Модель «Логистическая регрессия»"
   ]
  },
  {
   "cell_type": "code",
   "execution_count": 39,
   "metadata": {},
   "outputs": [
    {
     "data": {
      "text/html": [
       "<div>\n",
       "<style scoped>\n",
       "    .dataframe tbody tr th:only-of-type {\n",
       "        vertical-align: middle;\n",
       "    }\n",
       "\n",
       "    .dataframe tbody tr th {\n",
       "        vertical-align: top;\n",
       "    }\n",
       "\n",
       "    .dataframe thead th {\n",
       "        text-align: right;\n",
       "    }\n",
       "</style>\n",
       "<table border=\"1\" class=\"dataframe\">\n",
       "  <thead>\n",
       "    <tr style=\"text-align: right;\">\n",
       "      <th></th>\n",
       "      <th>Логистическая регрессия</th>\n",
       "    </tr>\n",
       "  </thead>\n",
       "  <tbody>\n",
       "    <tr>\n",
       "      <th>F1-мера</th>\n",
       "      <td>48%</td>\n",
       "    </tr>\n",
       "    <tr>\n",
       "      <th>Полнота (recall)</th>\n",
       "      <td>56%</td>\n",
       "    </tr>\n",
       "    <tr>\n",
       "      <th>AUC-ROC метрика</th>\n",
       "      <td>72%</td>\n",
       "    </tr>\n",
       "    <tr>\n",
       "      <th>Точность (precision)</th>\n",
       "      <td>42%</td>\n",
       "    </tr>\n",
       "    <tr>\n",
       "      <th>Доля правильных ответов (accuracy)</th>\n",
       "      <td>74%</td>\n",
       "    </tr>\n",
       "  </tbody>\n",
       "</table>\n",
       "</div>"
      ],
      "text/plain": [
       "                                   Логистическая регрессия\n",
       "F1-мера                                                48%\n",
       "Полнота (recall)                                       56%\n",
       "AUC-ROC метрика                                        72%\n",
       "Точность (precision)                                   42%\n",
       "Доля правильных ответов (accuracy)                     74%"
      ]
     },
     "metadata": {},
     "output_type": "display_data"
    }
   ],
   "source": [
    "model = LogisticRegression(solver='liblinear', class_weight='balanced')\n",
    "model.fit(downsampling_features, downsampling_target)\n",
    "show_metrics(model, features_valid, target_valid, 'Логистическая регрессия')"
   ]
  },
  {
   "cell_type": "markdown",
   "metadata": {},
   "source": [
    "#### Промежуточный вывод\n",
    "\n",
    "* Балансировка методами upsampling и downsampling не даёт улучшение F1-метрики.\n",
    "* Наилучшая метрика F1 у «Логистической регрессии» — 48% — меньше необходимой (59%)."
   ]
  },
  {
   "cell_type": "markdown",
   "metadata": {},
   "source": [
    "***\n",
    "### Вывод\n",
    "\n",
    "* Балансировка методами upsampling и downsampling не даёт улучшение F1-метрики.\n",
    "* Наиболее близкая метрика F1 у модели «Случайный лес» при балансировке «весов» — 62% — выше необходимой (59%).<br><br>\n",
    "***"
   ]
  },
  {
   "cell_type": "markdown",
   "metadata": {},
   "source": [
    "## Тестирование модели"
   ]
  },
  {
   "cell_type": "markdown",
   "metadata": {},
   "source": [
    "### Формирование финальной модели"
   ]
  },
  {
   "cell_type": "markdown",
   "metadata": {},
   "source": [
    "Финальная модель — «Случайный лес».  \n",
    "Которая показала наилучшую метрику F1:  \n",
    "62.3% при количестве «деревьев» 101 и при глубине 8 с учётом балансировки.  "
   ]
  },
  {
   "cell_type": "code",
   "execution_count": 40,
   "metadata": {},
   "outputs": [
    {
     "data": {
      "text/html": [
       "<div>\n",
       "<style scoped>\n",
       "    .dataframe tbody tr th:only-of-type {\n",
       "        vertical-align: middle;\n",
       "    }\n",
       "\n",
       "    .dataframe tbody tr th {\n",
       "        vertical-align: top;\n",
       "    }\n",
       "\n",
       "    .dataframe thead th {\n",
       "        text-align: right;\n",
       "    }\n",
       "</style>\n",
       "<table border=\"1\" class=\"dataframe\">\n",
       "  <thead>\n",
       "    <tr style=\"text-align: right;\">\n",
       "      <th></th>\n",
       "      <th>Случайный лес</th>\n",
       "    </tr>\n",
       "  </thead>\n",
       "  <tbody>\n",
       "    <tr>\n",
       "      <th>F1-мера</th>\n",
       "      <td>62%</td>\n",
       "    </tr>\n",
       "    <tr>\n",
       "      <th>Полнота (recall)</th>\n",
       "      <td>68%</td>\n",
       "    </tr>\n",
       "    <tr>\n",
       "      <th>AUC-ROC метрика</th>\n",
       "      <td>86%</td>\n",
       "    </tr>\n",
       "    <tr>\n",
       "      <th>Точность (precision)</th>\n",
       "      <td>58%</td>\n",
       "    </tr>\n",
       "    <tr>\n",
       "      <th>Доля правильных ответов (accuracy)</th>\n",
       "      <td>83%</td>\n",
       "    </tr>\n",
       "  </tbody>\n",
       "</table>\n",
       "</div>"
      ],
      "text/plain": [
       "                                   Случайный лес\n",
       "F1-мера                                      62%\n",
       "Полнота (recall)                             68%\n",
       "AUC-ROC метрика                              86%\n",
       "Точность (precision)                         58%\n",
       "Доля правильных ответов (accuracy)           83%"
      ]
     },
     "metadata": {},
     "output_type": "display_data"
    }
   ],
   "source": [
    "final_model = RandomForestClassifier(n_estimators=101, max_depth=8, random_state=12345, class_weight='balanced')\n",
    "final_model.fit(features_train, target_train)\n",
    "show_metrics(final_model, features_valid, target_valid, 'Случайный лес')"
   ]
  },
  {
   "cell_type": "markdown",
   "metadata": {},
   "source": [
    "#### Сравнение финальной модели с константной"
   ]
  },
  {
   "cell_type": "code",
   "execution_count": 41,
   "metadata": {},
   "outputs": [
    {
     "name": "stdout",
     "output_type": "stream",
     "text": [
      "Точность константной модели: 79%\n",
      "Точность финальной модели: 83%\n",
      "AUC-ROC метрика константной модели: 50%\n",
      "AUC-ROC метрика финальной модели: 86%\n"
     ]
    }
   ],
   "source": [
    "target_constraint = pd.Series([0]*len(target_valid))\n",
    "final_predictions = final_model.predict(features_valid)\n",
    "final_probabilities = final_model.predict_proba(features_valid)[:, 1]\n",
    "print(f'Точность константной модели: {accuracy_score(target_valid, target_constraint):.0%}')\n",
    "print(f'Точность финальной модели: {accuracy_score(target_valid, final_predictions):.0%}')\n",
    "print(f'AUC-ROC метрика константной модели: {roc_auc_score(target_valid, target_constraint):.0%}')\n",
    "print(f'AUC-ROC метрика финальной модели: {roc_auc_score(target_valid, final_probabilities):.0%}')"
   ]
  },
  {
   "cell_type": "markdown",
   "metadata": {},
   "source": [
    "#### Промежуточный вывод\n",
    "\n",
    "* Точность финальной модели выше константной, можно считать финальную модель «рабочей»."
   ]
  },
  {
   "cell_type": "markdown",
   "metadata": {},
   "source": [
    "### Тестирование финальной модели"
   ]
  },
  {
   "cell_type": "code",
   "execution_count": 42,
   "metadata": {},
   "outputs": [
    {
     "data": {
      "text/html": [
       "<div>\n",
       "<style scoped>\n",
       "    .dataframe tbody tr th:only-of-type {\n",
       "        vertical-align: middle;\n",
       "    }\n",
       "\n",
       "    .dataframe tbody tr th {\n",
       "        vertical-align: top;\n",
       "    }\n",
       "\n",
       "    .dataframe thead th {\n",
       "        text-align: right;\n",
       "    }\n",
       "</style>\n",
       "<table border=\"1\" class=\"dataframe\">\n",
       "  <thead>\n",
       "    <tr style=\"text-align: right;\">\n",
       "      <th></th>\n",
       "      <th>Финальная модель</th>\n",
       "    </tr>\n",
       "  </thead>\n",
       "  <tbody>\n",
       "    <tr>\n",
       "      <th>F1-мера</th>\n",
       "      <td>63%</td>\n",
       "    </tr>\n",
       "    <tr>\n",
       "      <th>Полнота (recall)</th>\n",
       "      <td>68%</td>\n",
       "    </tr>\n",
       "    <tr>\n",
       "      <th>AUC-ROC метрика</th>\n",
       "      <td>86%</td>\n",
       "    </tr>\n",
       "    <tr>\n",
       "      <th>Точность (precision)</th>\n",
       "      <td>58%</td>\n",
       "    </tr>\n",
       "    <tr>\n",
       "      <th>Доля правильных ответов (accuracy)</th>\n",
       "      <td>83%</td>\n",
       "    </tr>\n",
       "  </tbody>\n",
       "</table>\n",
       "</div>"
      ],
      "text/plain": [
       "                                   Финальная модель\n",
       "F1-мера                                         63%\n",
       "Полнота (recall)                                68%\n",
       "AUC-ROC метрика                                 86%\n",
       "Точность (precision)                            58%\n",
       "Доля правильных ответов (accuracy)              83%"
      ]
     },
     "metadata": {},
     "output_type": "display_data"
    }
   ],
   "source": [
    "show_metrics(final_model, features_test, target_test, 'Финальная модель')"
   ]
  },
  {
   "cell_type": "code",
   "execution_count": 43,
   "metadata": {},
   "outputs": [
    {
     "data": {
      "image/png": "[encoded data removed]",
      "text/plain": [
       "<Figure size 1080x360 with 1 Axes>"
      ]
     },
     "metadata": {
      "needs_background": "light"
     },
     "output_type": "display_data"
    }
   ],
   "source": [
    "std = np.std([tree.feature_importances_ for tree in final_model.estimators_], axis=0)\n",
    "importances = final_model.feature_importances_\n",
    "forest_importances = pd.Series(importances, index=features.columns)\n",
    "\n",
    "plt.figure(figsize=(15, 5))\n",
    "fig = sns.barplot(x=forest_importances.index, y=forest_importances, palette='plasma', yerr=std)\n",
    "fig.set_title('Важность факторов (Mean decrease in impurity)', fontsize=14)\n",
    "fig.set_ylabel('Mean decrease in impurity')\n",
    "plt.setp(fig.get_xticklabels(),rotation=20)\n",
    "plt.show()"
   ]
  },
  {
   "cell_type": "code",
   "execution_count": 44,
   "metadata": {},
   "outputs": [
    {
     "data": {
      "image/png": "[encoded data removed]",
      "text/plain": [
       "<Figure size 576x576 with 1 Axes>"
      ]
     },
     "metadata": {
      "needs_background": "light"
     },
     "output_type": "display_data"
    }
   ],
   "source": [
    "test_probabilities = final_model.predict_proba(features_test)[:, 1]\n",
    "fpr, tpr, thresholds = roc_curve(target_test, test_probabilities)\n",
    "plt.figure(figsize=(8, 8))\n",
    "plt.title('ROC-кривая (кривая ошибок)')\n",
    "plt.plot([0, 1], [0, 1], linestyle='--')\n",
    "plt.plot(fpr, tpr)\n",
    "plt.legend(('Случайная модель', 'Финальная модель'))\n",
    "plt.show()"
   ]
  },
  {
   "cell_type": "markdown",
   "metadata": {
    "pycharm": {
     "name": "#%% md\n"
    }
   },
   "source": [
    "## Общий вывод\n",
    "* Лучше всего отработали модели при сбалансированных «весах».\n",
    "* Финальная модель прошла проверку на адекватность и достигла поставленной задачи по метрике F1-score: 63% > 59%.\n",
    "* AUC-ROC метрика финальной модели — 86% — сильно выше показателя случайной модели.  \n",
    "    Модель с точностью в 58% предскажет уход клиента из банка.  \n",
    "    При этом верно определяет массив ушедших клиентов — 68%.  "
   ]
  }
 ],
 "metadata": {
  "ExecuteTimeLog": [
   {
    "duration": 2184,
    "start_time": "2022-03-29T08:18:34.030Z"
   },
   {
    "duration": 217,
    "start_time": "2022-03-29T08:19:28.583Z"
   },
   {
    "duration": 97,
    "start_time": "2022-03-29T08:22:47.263Z"
   },
   {
    "duration": 65,
    "start_time": "2022-03-29T08:22:59.457Z"
   },
   {
    "duration": 27,
    "start_time": "2022-03-29T08:24:10.715Z"
   },
   {
    "duration": 79,
    "start_time": "2022-03-29T08:26:15.712Z"
   },
   {
    "duration": 59,
    "start_time": "2022-03-29T08:26:20.593Z"
   },
   {
    "duration": 21,
    "start_time": "2022-03-29T08:27:09.813Z"
   },
   {
    "duration": 61,
    "start_time": "2022-03-29T08:31:30.901Z"
   },
   {
    "duration": 61,
    "start_time": "2022-03-29T08:31:35.981Z"
   },
   {
    "duration": 93,
    "start_time": "2022-03-29T08:33:08.080Z"
   },
   {
    "duration": 58,
    "start_time": "2022-03-29T08:33:22.160Z"
   },
   {
    "duration": 89,
    "start_time": "2022-03-29T08:37:46.898Z"
   },
   {
    "duration": 71,
    "start_time": "2022-03-29T08:39:20.151Z"
   },
   {
    "duration": 48,
    "start_time": "2022-03-29T08:39:29.456Z"
   },
   {
    "duration": 1455,
    "start_time": "2022-03-29T16:42:34.060Z"
   },
   {
    "duration": 41,
    "start_time": "2022-03-29T16:42:36.148Z"
   },
   {
    "duration": 4,
    "start_time": "2022-03-29T16:42:38.652Z"
   },
   {
    "duration": 4,
    "start_time": "2022-03-29T16:47:14.197Z"
   },
   {
    "duration": 15,
    "start_time": "2022-03-29T16:49:17.721Z"
   },
   {
    "duration": 42,
    "start_time": "2022-03-29T16:49:35.857Z"
   },
   {
    "duration": 1373,
    "start_time": "2022-03-29T17:16:59.008Z"
   },
   {
    "duration": 44,
    "start_time": "2022-03-29T17:17:00.385Z"
   },
   {
    "duration": 14,
    "start_time": "2022-03-29T17:17:00.431Z"
   },
   {
    "duration": 43,
    "start_time": "2022-03-29T17:17:00.446Z"
   },
   {
    "duration": 18,
    "start_time": "2022-03-29T17:17:00.491Z"
   },
   {
    "duration": 14,
    "start_time": "2022-03-29T17:17:00.510Z"
   },
   {
    "duration": 15,
    "start_time": "2022-03-29T17:17:00.526Z"
   },
   {
    "duration": 19,
    "start_time": "2022-03-29T17:17:10.465Z"
   },
   {
    "duration": 13,
    "start_time": "2022-03-29T17:17:16.643Z"
   },
   {
    "duration": 6,
    "start_time": "2022-03-29T17:18:14.072Z"
   },
   {
    "duration": 19,
    "start_time": "2022-03-29T17:18:19.760Z"
   },
   {
    "duration": 11,
    "start_time": "2022-03-29T17:21:35.535Z"
   },
   {
    "duration": 11,
    "start_time": "2022-03-29T17:23:41.669Z"
   },
   {
    "duration": 9,
    "start_time": "2022-03-29T17:24:37.529Z"
   },
   {
    "duration": 1144,
    "start_time": "2022-03-29T17:24:40.049Z"
   },
   {
    "duration": 0,
    "start_time": "2022-03-29T17:24:41.195Z"
   },
   {
    "duration": 1315,
    "start_time": "2022-03-29T17:24:57.934Z"
   },
   {
    "duration": 41,
    "start_time": "2022-03-29T17:24:59.251Z"
   },
   {
    "duration": 18,
    "start_time": "2022-03-29T17:24:59.294Z"
   },
   {
    "duration": 38,
    "start_time": "2022-03-29T17:24:59.313Z"
   },
   {
    "duration": 3,
    "start_time": "2022-03-29T17:24:59.353Z"
   },
   {
    "duration": 12,
    "start_time": "2022-03-29T17:24:59.357Z"
   },
   {
    "duration": 4,
    "start_time": "2022-03-29T17:24:59.370Z"
   },
   {
    "duration": 4,
    "start_time": "2022-03-29T17:24:59.375Z"
   },
   {
    "duration": 35,
    "start_time": "2022-03-29T17:24:59.381Z"
   },
   {
    "duration": 10,
    "start_time": "2022-03-29T17:47:20.522Z"
   },
   {
    "duration": 138,
    "start_time": "2022-03-29T17:52:31.523Z"
   },
   {
    "duration": 1555,
    "start_time": "2022-03-29T17:53:08.326Z"
   },
   {
    "duration": 39,
    "start_time": "2022-03-29T17:53:09.883Z"
   },
   {
    "duration": 14,
    "start_time": "2022-03-29T17:53:09.923Z"
   },
   {
    "duration": 44,
    "start_time": "2022-03-29T17:53:09.940Z"
   },
   {
    "duration": 26,
    "start_time": "2022-03-29T17:53:09.986Z"
   },
   {
    "duration": 14,
    "start_time": "2022-03-29T17:53:10.014Z"
   },
   {
    "duration": 6,
    "start_time": "2022-03-29T17:53:10.030Z"
   },
   {
    "duration": 7,
    "start_time": "2022-03-29T17:53:10.037Z"
   },
   {
    "duration": 14,
    "start_time": "2022-03-29T17:53:10.046Z"
   },
   {
    "duration": 228,
    "start_time": "2022-03-29T17:53:10.063Z"
   },
   {
    "duration": 113,
    "start_time": "2022-03-29T17:53:43.861Z"
   },
   {
    "duration": 110,
    "start_time": "2022-03-29T17:53:46.564Z"
   },
   {
    "duration": 109,
    "start_time": "2022-03-29T17:53:47.473Z"
   },
   {
    "duration": 114,
    "start_time": "2022-03-29T17:53:47.930Z"
   },
   {
    "duration": 4,
    "start_time": "2022-03-29T17:53:54.037Z"
   },
   {
    "duration": 911,
    "start_time": "2022-03-29T17:53:59.108Z"
   },
   {
    "duration": 4,
    "start_time": "2022-03-29T17:54:18.366Z"
   },
   {
    "duration": 1447,
    "start_time": "2022-03-29T17:54:30.473Z"
   },
   {
    "duration": 44,
    "start_time": "2022-03-29T17:54:31.922Z"
   },
   {
    "duration": 15,
    "start_time": "2022-03-29T17:54:31.968Z"
   },
   {
    "duration": 55,
    "start_time": "2022-03-29T17:54:31.986Z"
   },
   {
    "duration": 4,
    "start_time": "2022-03-29T17:54:32.043Z"
   },
   {
    "duration": 15,
    "start_time": "2022-03-29T17:54:32.049Z"
   },
   {
    "duration": 5,
    "start_time": "2022-03-29T17:54:32.066Z"
   },
   {
    "duration": 6,
    "start_time": "2022-03-29T17:54:32.072Z"
   },
   {
    "duration": 38,
    "start_time": "2022-03-29T17:54:32.080Z"
   },
   {
    "duration": 152,
    "start_time": "2022-03-29T17:54:32.121Z"
   },
   {
    "duration": 5,
    "start_time": "2022-03-29T17:54:32.275Z"
   },
   {
    "duration": 118,
    "start_time": "2022-03-29T17:55:00.595Z"
   },
   {
    "duration": 127,
    "start_time": "2022-03-29T17:55:21.460Z"
   },
   {
    "duration": 121,
    "start_time": "2022-03-29T17:55:38.276Z"
   },
   {
    "duration": 157,
    "start_time": "2022-03-29T17:57:51.405Z"
   },
   {
    "duration": 203,
    "start_time": "2022-03-29T17:59:18.270Z"
   },
   {
    "duration": 127,
    "start_time": "2022-03-29T17:59:25.182Z"
   },
   {
    "duration": 130,
    "start_time": "2022-03-29T17:59:27.444Z"
   },
   {
    "duration": 142,
    "start_time": "2022-03-29T17:59:28.701Z"
   },
   {
    "duration": 132,
    "start_time": "2022-03-29T18:01:36.586Z"
   },
   {
    "duration": 149,
    "start_time": "2022-03-29T18:02:05.305Z"
   },
   {
    "duration": 140,
    "start_time": "2022-03-29T18:03:06.901Z"
   },
   {
    "duration": 242,
    "start_time": "2022-03-29T18:03:31.585Z"
   },
   {
    "duration": 138,
    "start_time": "2022-03-29T18:03:36.770Z"
   },
   {
    "duration": 135,
    "start_time": "2022-03-29T18:04:52.160Z"
   },
   {
    "duration": 130,
    "start_time": "2022-03-29T18:04:55.253Z"
   },
   {
    "duration": 51,
    "start_time": "2022-03-29T19:28:19.347Z"
   },
   {
    "duration": 1830,
    "start_time": "2022-03-29T19:35:22.066Z"
   },
   {
    "duration": 39,
    "start_time": "2022-03-29T19:35:23.899Z"
   },
   {
    "duration": 15,
    "start_time": "2022-03-29T19:35:23.940Z"
   },
   {
    "duration": 51,
    "start_time": "2022-03-29T19:35:23.957Z"
   },
   {
    "duration": 4,
    "start_time": "2022-03-29T19:35:24.011Z"
   },
   {
    "duration": 14,
    "start_time": "2022-03-29T19:35:24.016Z"
   },
   {
    "duration": 5,
    "start_time": "2022-03-29T19:35:24.032Z"
   },
   {
    "duration": 9,
    "start_time": "2022-03-29T19:35:24.038Z"
   },
   {
    "duration": 14,
    "start_time": "2022-03-29T19:35:24.048Z"
   },
   {
    "duration": 7,
    "start_time": "2022-03-29T19:35:24.064Z"
   },
   {
    "duration": 35,
    "start_time": "2022-03-29T19:35:24.073Z"
   },
   {
    "duration": 4,
    "start_time": "2022-03-29T19:35:24.110Z"
   },
   {
    "duration": 170,
    "start_time": "2022-03-29T19:35:24.116Z"
   },
   {
    "duration": 1630,
    "start_time": "2022-03-29T19:43:36.116Z"
   },
   {
    "duration": 53,
    "start_time": "2022-03-29T19:43:37.749Z"
   },
   {
    "duration": 17,
    "start_time": "2022-03-29T19:43:37.807Z"
   },
   {
    "duration": 40,
    "start_time": "2022-03-29T19:43:37.827Z"
   },
   {
    "duration": 5,
    "start_time": "2022-03-29T19:43:37.868Z"
   },
   {
    "duration": 13,
    "start_time": "2022-03-29T19:43:37.902Z"
   },
   {
    "duration": 5,
    "start_time": "2022-03-29T19:43:37.917Z"
   },
   {
    "duration": 5,
    "start_time": "2022-03-29T19:43:37.924Z"
   },
   {
    "duration": 13,
    "start_time": "2022-03-29T19:43:37.931Z"
   },
   {
    "duration": 9,
    "start_time": "2022-03-29T19:43:37.946Z"
   },
   {
    "duration": 146,
    "start_time": "2022-03-29T19:43:37.956Z"
   },
   {
    "duration": 0,
    "start_time": "2022-03-29T19:43:38.104Z"
   },
   {
    "duration": 1,
    "start_time": "2022-03-29T19:43:38.105Z"
   },
   {
    "duration": 0,
    "start_time": "2022-03-29T19:43:38.107Z"
   },
   {
    "duration": 1536,
    "start_time": "2022-03-29T19:44:31.055Z"
   },
   {
    "duration": 38,
    "start_time": "2022-03-29T19:44:32.593Z"
   },
   {
    "duration": 13,
    "start_time": "2022-03-29T19:44:32.633Z"
   },
   {
    "duration": 55,
    "start_time": "2022-03-29T19:44:32.647Z"
   },
   {
    "duration": 4,
    "start_time": "2022-03-29T19:44:32.705Z"
   },
   {
    "duration": 14,
    "start_time": "2022-03-29T19:44:32.711Z"
   },
   {
    "duration": 5,
    "start_time": "2022-03-29T19:44:32.727Z"
   },
   {
    "duration": 5,
    "start_time": "2022-03-29T19:44:32.735Z"
   },
   {
    "duration": 13,
    "start_time": "2022-03-29T19:44:32.742Z"
   },
   {
    "duration": 7,
    "start_time": "2022-03-29T19:44:32.757Z"
   },
   {
    "duration": 41,
    "start_time": "2022-03-29T19:44:32.766Z"
   },
   {
    "duration": 7,
    "start_time": "2022-03-29T19:44:32.809Z"
   },
   {
    "duration": 4,
    "start_time": "2022-03-29T19:44:32.818Z"
   },
   {
    "duration": 184,
    "start_time": "2022-03-29T19:44:32.824Z"
   },
   {
    "duration": 1647,
    "start_time": "2022-03-29T20:01:20.485Z"
   },
   {
    "duration": 39,
    "start_time": "2022-03-29T20:01:22.134Z"
   },
   {
    "duration": 13,
    "start_time": "2022-03-29T20:01:22.175Z"
   },
   {
    "duration": 32,
    "start_time": "2022-03-29T20:01:22.190Z"
   },
   {
    "duration": 3,
    "start_time": "2022-03-29T20:01:22.224Z"
   },
   {
    "duration": 12,
    "start_time": "2022-03-29T20:01:22.228Z"
   },
   {
    "duration": 4,
    "start_time": "2022-03-29T20:01:22.241Z"
   },
   {
    "duration": 5,
    "start_time": "2022-03-29T20:01:22.246Z"
   },
   {
    "duration": 36,
    "start_time": "2022-03-29T20:01:22.252Z"
   },
   {
    "duration": 5,
    "start_time": "2022-03-29T20:01:22.290Z"
   },
   {
    "duration": 7,
    "start_time": "2022-03-29T20:01:22.296Z"
   },
   {
    "duration": 4,
    "start_time": "2022-03-29T20:01:22.304Z"
   },
   {
    "duration": 13,
    "start_time": "2022-03-29T20:01:22.310Z"
   },
   {
    "duration": 141,
    "start_time": "2022-03-29T20:01:22.325Z"
   },
   {
    "duration": 96,
    "start_time": "2022-03-29T20:02:02.799Z"
   },
   {
    "duration": 9,
    "start_time": "2022-03-29T20:02:09.486Z"
   },
   {
    "duration": 8,
    "start_time": "2022-03-29T20:02:16.569Z"
   },
   {
    "duration": 1366,
    "start_time": "2022-03-29T20:02:29.725Z"
   },
   {
    "duration": 40,
    "start_time": "2022-03-29T20:02:31.093Z"
   },
   {
    "duration": 11,
    "start_time": "2022-03-29T20:02:31.135Z"
   },
   {
    "duration": 46,
    "start_time": "2022-03-29T20:02:31.149Z"
   },
   {
    "duration": 3,
    "start_time": "2022-03-29T20:02:31.197Z"
   },
   {
    "duration": 25,
    "start_time": "2022-03-29T20:02:31.202Z"
   },
   {
    "duration": 10,
    "start_time": "2022-03-29T20:02:31.229Z"
   },
   {
    "duration": 14,
    "start_time": "2022-03-29T20:02:31.240Z"
   },
   {
    "duration": 20,
    "start_time": "2022-03-29T20:02:31.256Z"
   },
   {
    "duration": 6,
    "start_time": "2022-03-29T20:02:31.279Z"
   },
   {
    "duration": 9,
    "start_time": "2022-03-29T20:02:31.286Z"
   },
   {
    "duration": 5,
    "start_time": "2022-03-29T20:02:31.296Z"
   },
   {
    "duration": 14,
    "start_time": "2022-03-29T20:02:31.303Z"
   },
   {
    "duration": 120,
    "start_time": "2022-03-29T20:02:31.319Z"
   },
   {
    "duration": 0,
    "start_time": "2022-03-29T20:02:31.440Z"
   },
   {
    "duration": 5,
    "start_time": "2022-03-29T20:04:37.121Z"
   },
   {
    "duration": 4,
    "start_time": "2022-03-29T20:05:32.391Z"
   },
   {
    "duration": 1392,
    "start_time": "2022-03-29T20:07:29.409Z"
   },
   {
    "duration": 40,
    "start_time": "2022-03-29T20:07:30.803Z"
   },
   {
    "duration": 12,
    "start_time": "2022-03-29T20:07:30.845Z"
   },
   {
    "duration": 41,
    "start_time": "2022-03-29T20:07:30.859Z"
   },
   {
    "duration": 3,
    "start_time": "2022-03-29T20:07:30.903Z"
   },
   {
    "duration": 42,
    "start_time": "2022-03-29T20:07:30.907Z"
   },
   {
    "duration": 35,
    "start_time": "2022-03-29T20:07:30.951Z"
   },
   {
    "duration": 16,
    "start_time": "2022-03-29T20:07:30.988Z"
   },
   {
    "duration": 40,
    "start_time": "2022-03-29T20:07:31.005Z"
   },
   {
    "duration": 35,
    "start_time": "2022-03-29T20:07:31.047Z"
   },
   {
    "duration": 18,
    "start_time": "2022-03-29T20:07:31.084Z"
   },
   {
    "duration": 12,
    "start_time": "2022-03-29T20:07:31.103Z"
   },
   {
    "duration": 42,
    "start_time": "2022-03-29T20:07:31.117Z"
   },
   {
    "duration": 16,
    "start_time": "2022-03-29T20:07:31.162Z"
   },
   {
    "duration": 138,
    "start_time": "2022-03-29T20:07:31.180Z"
   },
   {
    "duration": 26,
    "start_time": "2022-03-29T20:13:26.074Z"
   },
   {
    "duration": 27,
    "start_time": "2022-03-29T20:13:28.291Z"
   },
   {
    "duration": 24,
    "start_time": "2022-03-29T20:13:28.747Z"
   },
   {
    "duration": 23,
    "start_time": "2022-03-29T20:13:29.010Z"
   },
   {
    "duration": 23,
    "start_time": "2022-03-29T20:13:29.194Z"
   },
   {
    "duration": 23,
    "start_time": "2022-03-29T20:13:29.394Z"
   },
   {
    "duration": 23,
    "start_time": "2022-03-29T20:13:29.586Z"
   },
   {
    "duration": 21,
    "start_time": "2022-03-29T20:14:22.402Z"
   },
   {
    "duration": 23,
    "start_time": "2022-03-29T20:14:37.034Z"
   },
   {
    "duration": 10,
    "start_time": "2022-03-29T20:14:58.975Z"
   },
   {
    "duration": 114,
    "start_time": "2022-03-29T20:24:29.410Z"
   },
   {
    "duration": 94,
    "start_time": "2022-03-29T20:44:57.535Z"
   },
   {
    "duration": 1417,
    "start_time": "2022-03-29T20:45:03.609Z"
   },
   {
    "duration": 39,
    "start_time": "2022-03-29T20:45:05.028Z"
   },
   {
    "duration": 12,
    "start_time": "2022-03-29T20:45:05.068Z"
   },
   {
    "duration": 39,
    "start_time": "2022-03-29T20:45:05.081Z"
   },
   {
    "duration": 3,
    "start_time": "2022-03-29T20:45:05.122Z"
   },
   {
    "duration": 19,
    "start_time": "2022-03-29T20:45:05.126Z"
   },
   {
    "duration": 14,
    "start_time": "2022-03-29T20:45:05.146Z"
   },
   {
    "duration": 11,
    "start_time": "2022-03-29T20:45:05.162Z"
   },
   {
    "duration": 23,
    "start_time": "2022-03-29T20:45:05.174Z"
   },
   {
    "duration": 13,
    "start_time": "2022-03-29T20:45:05.199Z"
   },
   {
    "duration": 11,
    "start_time": "2022-03-29T20:45:05.214Z"
   },
   {
    "duration": 4,
    "start_time": "2022-03-29T20:45:05.226Z"
   },
   {
    "duration": 33,
    "start_time": "2022-03-29T20:45:05.231Z"
   },
   {
    "duration": 10,
    "start_time": "2022-03-29T20:45:05.266Z"
   },
   {
    "duration": 125,
    "start_time": "2022-03-29T20:45:05.277Z"
   },
   {
    "duration": 112,
    "start_time": "2022-03-29T20:45:05.403Z"
   },
   {
    "duration": 387,
    "start_time": "2022-03-29T20:45:47.431Z"
   },
   {
    "duration": 390,
    "start_time": "2022-03-29T20:47:12.043Z"
   },
   {
    "duration": 379,
    "start_time": "2022-03-29T20:48:59.082Z"
   },
   {
    "duration": 1548,
    "start_time": "2022-03-29T20:53:30.267Z"
   },
   {
    "duration": 41,
    "start_time": "2022-03-29T20:53:31.817Z"
   },
   {
    "duration": 12,
    "start_time": "2022-03-29T20:53:31.860Z"
   },
   {
    "duration": 39,
    "start_time": "2022-03-29T20:53:31.875Z"
   },
   {
    "duration": 4,
    "start_time": "2022-03-29T20:53:31.916Z"
   },
   {
    "duration": 13,
    "start_time": "2022-03-29T20:53:31.922Z"
   },
   {
    "duration": 4,
    "start_time": "2022-03-29T20:53:31.936Z"
   },
   {
    "duration": 4,
    "start_time": "2022-03-29T20:53:31.942Z"
   },
   {
    "duration": 12,
    "start_time": "2022-03-29T20:53:31.947Z"
   },
   {
    "duration": 5,
    "start_time": "2022-03-29T20:53:31.981Z"
   },
   {
    "duration": 10,
    "start_time": "2022-03-29T20:53:31.988Z"
   },
   {
    "duration": 4,
    "start_time": "2022-03-29T20:53:31.999Z"
   },
   {
    "duration": 27,
    "start_time": "2022-03-29T20:53:32.005Z"
   },
   {
    "duration": 11,
    "start_time": "2022-03-29T20:53:32.033Z"
   },
   {
    "duration": 145,
    "start_time": "2022-03-29T20:53:32.045Z"
   },
   {
    "duration": 391,
    "start_time": "2022-03-29T20:53:32.192Z"
   },
   {
    "duration": 17,
    "start_time": "2022-03-29T20:53:32.585Z"
   },
   {
    "duration": 29,
    "start_time": "2022-03-29T21:00:28.249Z"
   },
   {
    "duration": 177,
    "start_time": "2022-03-29T21:00:47.229Z"
   },
   {
    "duration": 28,
    "start_time": "2022-03-29T21:01:07.919Z"
   },
   {
    "duration": 28,
    "start_time": "2022-03-29T21:01:13.456Z"
   },
   {
    "duration": 28,
    "start_time": "2022-03-29T21:02:01.988Z"
   },
   {
    "duration": 27,
    "start_time": "2022-03-29T21:02:12.142Z"
   },
   {
    "duration": 25,
    "start_time": "2022-03-29T21:02:19.791Z"
   },
   {
    "duration": 26,
    "start_time": "2022-03-29T21:02:23.527Z"
   },
   {
    "duration": 26,
    "start_time": "2022-03-29T21:02:28.638Z"
   },
   {
    "duration": 27,
    "start_time": "2022-03-29T21:02:57.355Z"
   },
   {
    "duration": 123,
    "start_time": "2022-03-29T21:04:13.875Z"
   },
   {
    "duration": 27,
    "start_time": "2022-03-29T21:04:19.819Z"
   },
   {
    "duration": 29,
    "start_time": "2022-03-29T21:06:15.583Z"
   },
   {
    "duration": 27,
    "start_time": "2022-03-29T21:06:47.147Z"
   },
   {
    "duration": 38,
    "start_time": "2022-03-29T21:09:32.524Z"
   },
   {
    "duration": 1587,
    "start_time": "2022-03-29T21:10:11.355Z"
   },
   {
    "duration": 39,
    "start_time": "2022-03-29T21:10:12.944Z"
   },
   {
    "duration": 12,
    "start_time": "2022-03-29T21:10:12.985Z"
   },
   {
    "duration": 35,
    "start_time": "2022-03-29T21:10:12.999Z"
   },
   {
    "duration": 3,
    "start_time": "2022-03-29T21:10:13.036Z"
   },
   {
    "duration": 13,
    "start_time": "2022-03-29T21:10:13.041Z"
   },
   {
    "duration": 28,
    "start_time": "2022-03-29T21:10:13.055Z"
   },
   {
    "duration": 6,
    "start_time": "2022-03-29T21:10:13.084Z"
   },
   {
    "duration": 11,
    "start_time": "2022-03-29T21:10:13.091Z"
   },
   {
    "duration": 6,
    "start_time": "2022-03-29T21:10:13.104Z"
   },
   {
    "duration": 8,
    "start_time": "2022-03-29T21:10:13.112Z"
   },
   {
    "duration": 6,
    "start_time": "2022-03-29T21:10:13.122Z"
   },
   {
    "duration": 25,
    "start_time": "2022-03-29T21:10:13.129Z"
   },
   {
    "duration": 33,
    "start_time": "2022-03-29T21:10:13.156Z"
   },
   {
    "duration": 141,
    "start_time": "2022-03-29T21:10:13.190Z"
   },
   {
    "duration": 395,
    "start_time": "2022-03-29T21:10:13.332Z"
   },
   {
    "duration": 138,
    "start_time": "2022-03-29T21:10:13.729Z"
   },
   {
    "duration": 29,
    "start_time": "2022-03-29T21:14:25.452Z"
   },
   {
    "duration": 29,
    "start_time": "2022-03-29T21:16:00.109Z"
   },
   {
    "duration": 31,
    "start_time": "2022-03-29T21:16:53.675Z"
   },
   {
    "duration": 187,
    "start_time": "2022-03-29T21:21:55.218Z"
   },
   {
    "duration": 1056,
    "start_time": "2022-03-29T21:22:05.806Z"
   },
   {
    "duration": 3022,
    "start_time": "2022-03-29T21:22:47.275Z"
   },
   {
    "duration": 41524,
    "start_time": "2022-03-29T21:23:03.442Z"
   },
   {
    "duration": 35002,
    "start_time": "2022-03-29T21:24:15.079Z"
   },
   {
    "duration": 27713,
    "start_time": "2022-03-29T21:25:18.160Z"
   },
   {
    "duration": 63271,
    "start_time": "2022-03-29T21:26:38.762Z"
   },
   {
    "duration": 3484,
    "start_time": "2022-03-29T21:28:05.818Z"
   },
   {
    "duration": 1223,
    "start_time": "2022-03-29T21:28:21.739Z"
   },
   {
    "duration": 608,
    "start_time": "2022-03-29T21:28:33.773Z"
   },
   {
    "duration": 626,
    "start_time": "2022-03-29T21:28:41.584Z"
   },
   {
    "duration": 323,
    "start_time": "2022-03-29T21:29:04.287Z"
   },
   {
    "duration": 1794,
    "start_time": "2022-03-31T16:35:54.815Z"
   },
   {
    "duration": 41,
    "start_time": "2022-03-31T16:35:56.611Z"
   },
   {
    "duration": 16,
    "start_time": "2022-03-31T16:35:56.654Z"
   },
   {
    "duration": 58,
    "start_time": "2022-03-31T16:35:56.673Z"
   },
   {
    "duration": 5,
    "start_time": "2022-03-31T16:35:56.733Z"
   },
   {
    "duration": 18,
    "start_time": "2022-03-31T16:35:56.740Z"
   },
   {
    "duration": 5,
    "start_time": "2022-03-31T16:35:56.760Z"
   },
   {
    "duration": 8,
    "start_time": "2022-03-31T16:35:56.767Z"
   },
   {
    "duration": 37,
    "start_time": "2022-03-31T16:35:56.777Z"
   },
   {
    "duration": 10,
    "start_time": "2022-03-31T16:35:56.817Z"
   },
   {
    "duration": 15,
    "start_time": "2022-03-31T16:35:56.829Z"
   },
   {
    "duration": 7,
    "start_time": "2022-03-31T16:35:56.846Z"
   },
   {
    "duration": 46,
    "start_time": "2022-03-31T16:35:56.855Z"
   },
   {
    "duration": 14,
    "start_time": "2022-03-31T16:35:56.903Z"
   },
   {
    "duration": 164,
    "start_time": "2022-03-31T16:35:56.918Z"
   },
   {
    "duration": 471,
    "start_time": "2022-03-31T16:35:57.085Z"
   },
   {
    "duration": 50,
    "start_time": "2022-03-31T16:35:57.558Z"
   },
   {
    "duration": 420,
    "start_time": "2022-03-31T16:35:57.610Z"
   },
   {
    "duration": 399,
    "start_time": "2022-03-31T16:36:25.924Z"
   },
   {
    "duration": 432,
    "start_time": "2022-03-31T16:39:41.256Z"
   },
   {
    "duration": 423,
    "start_time": "2022-03-31T16:40:03.588Z"
   },
   {
    "duration": 529,
    "start_time": "2022-03-31T16:40:09.413Z"
   },
   {
    "duration": 416,
    "start_time": "2022-03-31T16:40:13.690Z"
   },
   {
    "duration": 426,
    "start_time": "2022-03-31T16:41:03.723Z"
   },
   {
    "duration": 435,
    "start_time": "2022-03-31T16:41:09.602Z"
   },
   {
    "duration": 423,
    "start_time": "2022-03-31T16:41:44.339Z"
   },
   {
    "duration": 52,
    "start_time": "2022-03-31T16:42:18.567Z"
   },
   {
    "duration": 179,
    "start_time": "2022-03-31T16:49:46.526Z"
   },
   {
    "duration": 491,
    "start_time": "2022-03-31T17:10:26.293Z"
   },
   {
    "duration": 2892,
    "start_time": "2022-03-31T17:10:34.274Z"
   },
   {
    "duration": 40,
    "start_time": "2022-03-31T17:11:20.951Z"
   },
   {
    "duration": 1631,
    "start_time": "2022-03-31T17:17:34.738Z"
   },
   {
    "duration": 39,
    "start_time": "2022-03-31T17:17:36.371Z"
   },
   {
    "duration": 15,
    "start_time": "2022-03-31T17:17:36.412Z"
   },
   {
    "duration": 41,
    "start_time": "2022-03-31T17:17:36.430Z"
   },
   {
    "duration": 4,
    "start_time": "2022-03-31T17:17:36.473Z"
   },
   {
    "duration": 34,
    "start_time": "2022-03-31T17:17:36.479Z"
   },
   {
    "duration": 6,
    "start_time": "2022-03-31T17:17:36.515Z"
   },
   {
    "duration": 8,
    "start_time": "2022-03-31T17:17:36.522Z"
   },
   {
    "duration": 19,
    "start_time": "2022-03-31T17:17:36.532Z"
   },
   {
    "duration": 9,
    "start_time": "2022-03-31T17:17:36.554Z"
   },
   {
    "duration": 15,
    "start_time": "2022-03-31T17:17:36.564Z"
   },
   {
    "duration": 23,
    "start_time": "2022-03-31T17:17:36.581Z"
   },
   {
    "duration": 37,
    "start_time": "2022-03-31T17:17:36.606Z"
   },
   {
    "duration": 13,
    "start_time": "2022-03-31T17:17:36.644Z"
   },
   {
    "duration": 175,
    "start_time": "2022-03-31T17:17:36.659Z"
   },
   {
    "duration": 5,
    "start_time": "2022-03-31T17:17:36.835Z"
   },
   {
    "duration": 487,
    "start_time": "2022-03-31T17:17:36.842Z"
   },
   {
    "duration": 36,
    "start_time": "2022-03-31T17:17:37.331Z"
   },
   {
    "duration": 421,
    "start_time": "2022-03-31T17:17:37.370Z"
   },
   {
    "duration": 433,
    "start_time": "2022-03-31T17:17:37.802Z"
   },
   {
    "duration": 165,
    "start_time": "2022-03-31T17:17:38.237Z"
   },
   {
    "duration": 175,
    "start_time": "2022-03-31T17:17:38.404Z"
   },
   {
    "duration": 44,
    "start_time": "2022-03-31T17:17:38.581Z"
   },
   {
    "duration": 1668,
    "start_time": "2022-03-31T17:19:31.174Z"
   },
   {
    "duration": 45,
    "start_time": "2022-03-31T17:19:32.845Z"
   },
   {
    "duration": 16,
    "start_time": "2022-03-31T17:19:32.892Z"
   },
   {
    "duration": 44,
    "start_time": "2022-03-31T17:19:32.910Z"
   },
   {
    "duration": 5,
    "start_time": "2022-03-31T17:19:32.955Z"
   },
   {
    "duration": 22,
    "start_time": "2022-03-31T17:19:32.962Z"
   },
   {
    "duration": 6,
    "start_time": "2022-03-31T17:19:33.002Z"
   },
   {
    "duration": 9,
    "start_time": "2022-03-31T17:19:33.010Z"
   },
   {
    "duration": 17,
    "start_time": "2022-03-31T17:19:33.021Z"
   },
   {
    "duration": 7,
    "start_time": "2022-03-31T17:19:33.041Z"
   },
   {
    "duration": 13,
    "start_time": "2022-03-31T17:19:33.051Z"
   },
   {
    "duration": 5,
    "start_time": "2022-03-31T17:19:33.066Z"
   },
   {
    "duration": 55,
    "start_time": "2022-03-31T17:19:33.072Z"
   },
   {
    "duration": 12,
    "start_time": "2022-03-31T17:19:33.129Z"
   },
   {
    "duration": 170,
    "start_time": "2022-03-31T17:19:33.143Z"
   },
   {
    "duration": 5,
    "start_time": "2022-03-31T17:19:33.315Z"
   },
   {
    "duration": 467,
    "start_time": "2022-03-31T17:19:33.322Z"
   },
   {
    "duration": 39,
    "start_time": "2022-03-31T17:19:33.791Z"
   },
   {
    "duration": 391,
    "start_time": "2022-03-31T17:19:33.831Z"
   },
   {
    "duration": 416,
    "start_time": "2022-03-31T17:19:34.224Z"
   },
   {
    "duration": 163,
    "start_time": "2022-03-31T17:19:34.642Z"
   },
   {
    "duration": 211,
    "start_time": "2022-03-31T17:19:34.807Z"
   },
   {
    "duration": 35,
    "start_time": "2022-03-31T17:19:35.020Z"
   },
   {
    "duration": 1623,
    "start_time": "2022-03-31T17:21:03.787Z"
   },
   {
    "duration": 39,
    "start_time": "2022-03-31T17:21:05.413Z"
   },
   {
    "duration": 13,
    "start_time": "2022-03-31T17:21:05.454Z"
   },
   {
    "duration": 60,
    "start_time": "2022-03-31T17:21:05.470Z"
   },
   {
    "duration": 5,
    "start_time": "2022-03-31T17:21:05.532Z"
   },
   {
    "duration": 16,
    "start_time": "2022-03-31T17:21:05.539Z"
   },
   {
    "duration": 9,
    "start_time": "2022-03-31T17:21:05.557Z"
   },
   {
    "duration": 8,
    "start_time": "2022-03-31T17:21:05.567Z"
   },
   {
    "duration": 33,
    "start_time": "2022-03-31T17:21:05.576Z"
   },
   {
    "duration": 5,
    "start_time": "2022-03-31T17:21:05.612Z"
   },
   {
    "duration": 25,
    "start_time": "2022-03-31T17:21:05.619Z"
   },
   {
    "duration": 10,
    "start_time": "2022-03-31T17:21:05.646Z"
   },
   {
    "duration": 38,
    "start_time": "2022-03-31T17:21:05.658Z"
   },
   {
    "duration": 12,
    "start_time": "2022-03-31T17:21:05.698Z"
   },
   {
    "duration": 163,
    "start_time": "2022-03-31T17:21:05.713Z"
   },
   {
    "duration": 5,
    "start_time": "2022-03-31T17:21:05.878Z"
   },
   {
    "duration": 461,
    "start_time": "2022-03-31T17:21:05.885Z"
   },
   {
    "duration": 34,
    "start_time": "2022-03-31T17:21:06.348Z"
   },
   {
    "duration": 410,
    "start_time": "2022-03-31T17:21:06.384Z"
   },
   {
    "duration": 450,
    "start_time": "2022-03-31T17:21:06.796Z"
   },
   {
    "duration": 155,
    "start_time": "2022-03-31T17:21:07.248Z"
   },
   {
    "duration": 244,
    "start_time": "2022-03-31T17:21:07.405Z"
   },
   {
    "duration": 34,
    "start_time": "2022-03-31T17:21:07.651Z"
   },
   {
    "duration": 397,
    "start_time": "2022-03-31T18:14:32.568Z"
   },
   {
    "duration": 133583,
    "start_time": "2022-03-31T18:15:08.405Z"
   },
   {
    "duration": 44073,
    "start_time": "2022-03-31T18:18:26.490Z"
   },
   {
    "duration": 43434,
    "start_time": "2022-03-31T18:19:37.778Z"
   },
   {
    "duration": 461,
    "start_time": "2022-03-31T18:20:52.283Z"
   },
   {
    "duration": 1162,
    "start_time": "2022-03-31T18:21:14.622Z"
   },
   {
    "duration": 741,
    "start_time": "2022-03-31T18:21:33.994Z"
   },
   {
    "duration": 3361,
    "start_time": "2022-03-31T18:22:05.521Z"
   },
   {
    "duration": 155,
    "start_time": "2022-03-31T18:22:21.814Z"
   },
   {
    "duration": 44772,
    "start_time": "2022-03-31T18:22:26.258Z"
   },
   {
    "duration": 3781,
    "start_time": "2022-03-31T18:23:41.406Z"
   },
   {
    "duration": 55210,
    "start_time": "2022-03-31T18:23:59.850Z"
   },
   {
    "duration": 66577,
    "start_time": "2022-03-31T18:25:07.204Z"
   },
   {
    "duration": 1048,
    "start_time": "2022-03-31T18:27:08.501Z"
   },
   {
    "duration": 1800,
    "start_time": "2022-03-31T18:28:52.674Z"
   },
   {
    "duration": 45,
    "start_time": "2022-03-31T18:28:54.476Z"
   },
   {
    "duration": 18,
    "start_time": "2022-03-31T18:28:54.522Z"
   },
   {
    "duration": 45,
    "start_time": "2022-03-31T18:28:54.542Z"
   },
   {
    "duration": 13,
    "start_time": "2022-03-31T18:28:54.589Z"
   },
   {
    "duration": 12,
    "start_time": "2022-03-31T18:28:54.604Z"
   },
   {
    "duration": 7,
    "start_time": "2022-03-31T18:28:54.618Z"
   },
   {
    "duration": 12,
    "start_time": "2022-03-31T18:28:54.627Z"
   },
   {
    "duration": 13,
    "start_time": "2022-03-31T18:28:54.642Z"
   },
   {
    "duration": 43,
    "start_time": "2022-03-31T18:28:54.660Z"
   },
   {
    "duration": 11,
    "start_time": "2022-03-31T18:28:54.705Z"
   },
   {
    "duration": 5,
    "start_time": "2022-03-31T18:28:54.718Z"
   },
   {
    "duration": 37,
    "start_time": "2022-03-31T18:28:54.725Z"
   },
   {
    "duration": 38,
    "start_time": "2022-03-31T18:28:54.764Z"
   },
   {
    "duration": 186,
    "start_time": "2022-03-31T18:28:54.805Z"
   },
   {
    "duration": 7,
    "start_time": "2022-03-31T18:28:55.002Z"
   },
   {
    "duration": 478,
    "start_time": "2022-03-31T18:28:55.011Z"
   },
   {
    "duration": 44,
    "start_time": "2022-03-31T18:28:55.490Z"
   },
   {
    "duration": 410,
    "start_time": "2022-03-31T18:28:55.536Z"
   },
   {
    "duration": 431,
    "start_time": "2022-03-31T18:28:55.948Z"
   },
   {
    "duration": 128,
    "start_time": "2022-03-31T18:28:56.381Z"
   },
   {
    "duration": 258,
    "start_time": "2022-03-31T18:28:56.512Z"
   },
   {
    "duration": 42,
    "start_time": "2022-03-31T18:28:56.772Z"
   },
   {
    "duration": 1085,
    "start_time": "2022-03-31T18:28:56.816Z"
   },
   {
    "duration": 581,
    "start_time": "2022-03-31T18:28:57.903Z"
   },
   {
    "duration": 599,
    "start_time": "2022-03-31T18:29:14.323Z"
   },
   {
    "duration": 110,
    "start_time": "2022-03-31T18:30:34.800Z"
   },
   {
    "duration": 1686,
    "start_time": "2022-03-31T18:30:54.489Z"
   },
   {
    "duration": 46,
    "start_time": "2022-03-31T18:30:56.177Z"
   },
   {
    "duration": 16,
    "start_time": "2022-03-31T18:30:56.225Z"
   },
   {
    "duration": 67,
    "start_time": "2022-03-31T18:30:56.243Z"
   },
   {
    "duration": 5,
    "start_time": "2022-03-31T18:30:56.315Z"
   },
   {
    "duration": 20,
    "start_time": "2022-03-31T18:30:56.322Z"
   },
   {
    "duration": 6,
    "start_time": "2022-03-31T18:30:56.344Z"
   },
   {
    "duration": 11,
    "start_time": "2022-03-31T18:30:56.352Z"
   },
   {
    "duration": 14,
    "start_time": "2022-03-31T18:30:56.365Z"
   },
   {
    "duration": 20,
    "start_time": "2022-03-31T18:30:56.381Z"
   },
   {
    "duration": 13,
    "start_time": "2022-03-31T18:30:56.404Z"
   },
   {
    "duration": 10,
    "start_time": "2022-03-31T18:30:56.420Z"
   },
   {
    "duration": 37,
    "start_time": "2022-03-31T18:30:56.431Z"
   },
   {
    "duration": 12,
    "start_time": "2022-03-31T18:30:56.471Z"
   },
   {
    "duration": 177,
    "start_time": "2022-03-31T18:30:56.484Z"
   },
   {
    "duration": 4,
    "start_time": "2022-03-31T18:30:56.663Z"
   },
   {
    "duration": 634,
    "start_time": "2022-03-31T18:30:56.669Z"
   },
   {
    "duration": 50,
    "start_time": "2022-03-31T18:30:57.306Z"
   },
   {
    "duration": 413,
    "start_time": "2022-03-31T18:30:57.358Z"
   },
   {
    "duration": 416,
    "start_time": "2022-03-31T18:30:57.773Z"
   },
   {
    "duration": 113,
    "start_time": "2022-03-31T18:30:58.191Z"
   },
   {
    "duration": 258,
    "start_time": "2022-03-31T18:30:58.307Z"
   },
   {
    "duration": 41,
    "start_time": "2022-03-31T18:30:58.567Z"
   },
   {
    "duration": 1091,
    "start_time": "2022-03-31T18:30:58.610Z"
   },
   {
    "duration": 594,
    "start_time": "2022-03-31T18:30:59.703Z"
   },
   {
    "duration": 107,
    "start_time": "2022-03-31T18:31:00.301Z"
   },
   {
    "duration": 6,
    "start_time": "2022-03-31T18:50:23.826Z"
   },
   {
    "duration": 122,
    "start_time": "2022-03-31T18:51:16.125Z"
   },
   {
    "duration": 9,
    "start_time": "2022-03-31T18:51:39.730Z"
   },
   {
    "duration": 6,
    "start_time": "2022-03-31T18:51:48.329Z"
   },
   {
    "duration": 5,
    "start_time": "2022-03-31T18:51:54.361Z"
   },
   {
    "duration": 13,
    "start_time": "2022-03-31T18:58:40.860Z"
   },
   {
    "duration": 12,
    "start_time": "2022-03-31T18:59:06.766Z"
   },
   {
    "duration": 6,
    "start_time": "2022-03-31T18:59:14.968Z"
   },
   {
    "duration": 5,
    "start_time": "2022-03-31T18:59:24.266Z"
   },
   {
    "duration": 12,
    "start_time": "2022-03-31T18:59:35.626Z"
   },
   {
    "duration": 7,
    "start_time": "2022-03-31T18:59:43.119Z"
   },
   {
    "duration": 5,
    "start_time": "2022-03-31T18:59:55.808Z"
   },
   {
    "duration": 13,
    "start_time": "2022-03-31T19:01:40.584Z"
   },
   {
    "duration": 4,
    "start_time": "2022-03-31T19:01:54.827Z"
   },
   {
    "duration": 19,
    "start_time": "2022-03-31T19:07:36.064Z"
   },
   {
    "duration": 25,
    "start_time": "2022-03-31T19:08:02.544Z"
   },
   {
    "duration": 137,
    "start_time": "2022-03-31T19:08:39.448Z"
   },
   {
    "duration": 2203,
    "start_time": "2022-03-31T19:08:52.624Z"
   },
   {
    "duration": 19,
    "start_time": "2022-03-31T19:09:08.287Z"
   },
   {
    "duration": 6,
    "start_time": "2022-03-31T19:09:20.085Z"
   },
   {
    "duration": 140,
    "start_time": "2022-03-31T19:09:33.837Z"
   },
   {
    "duration": 8,
    "start_time": "2022-03-31T19:10:18.450Z"
   },
   {
    "duration": 1811,
    "start_time": "2022-03-31T20:41:11.654Z"
   },
   {
    "duration": 49,
    "start_time": "2022-03-31T20:41:13.467Z"
   },
   {
    "duration": 15,
    "start_time": "2022-03-31T20:41:13.518Z"
   },
   {
    "duration": 44,
    "start_time": "2022-03-31T20:41:13.536Z"
   },
   {
    "duration": 5,
    "start_time": "2022-03-31T20:41:13.602Z"
   },
   {
    "duration": 15,
    "start_time": "2022-03-31T20:41:13.609Z"
   },
   {
    "duration": 6,
    "start_time": "2022-03-31T20:41:13.626Z"
   },
   {
    "duration": 9,
    "start_time": "2022-03-31T20:41:13.634Z"
   },
   {
    "duration": 15,
    "start_time": "2022-03-31T20:41:13.645Z"
   },
   {
    "duration": 10,
    "start_time": "2022-03-31T20:41:13.663Z"
   },
   {
    "duration": 10,
    "start_time": "2022-03-31T20:41:13.702Z"
   },
   {
    "duration": 4,
    "start_time": "2022-03-31T20:41:13.715Z"
   },
   {
    "duration": 35,
    "start_time": "2022-03-31T20:41:13.720Z"
   },
   {
    "duration": 13,
    "start_time": "2022-03-31T20:41:13.757Z"
   },
   {
    "duration": 187,
    "start_time": "2022-03-31T20:41:13.772Z"
   },
   {
    "duration": 5,
    "start_time": "2022-03-31T20:41:13.961Z"
   },
   {
    "duration": 481,
    "start_time": "2022-03-31T20:41:13.967Z"
   },
   {
    "duration": 36,
    "start_time": "2022-03-31T20:41:14.450Z"
   },
   {
    "duration": 513,
    "start_time": "2022-03-31T20:41:14.501Z"
   },
   {
    "duration": 495,
    "start_time": "2022-03-31T20:41:15.016Z"
   },
   {
    "duration": 191,
    "start_time": "2022-03-31T20:41:15.513Z"
   },
   {
    "duration": 180,
    "start_time": "2022-03-31T20:41:15.707Z"
   },
   {
    "duration": 43,
    "start_time": "2022-03-31T20:41:15.889Z"
   },
   {
    "duration": 1116,
    "start_time": "2022-03-31T20:41:15.934Z"
   },
   {
    "duration": 613,
    "start_time": "2022-03-31T20:41:17.052Z"
   },
   {
    "duration": 139,
    "start_time": "2022-03-31T20:41:17.667Z"
   },
   {
    "duration": 102,
    "start_time": "2022-03-31T20:41:17.809Z"
   },
   {
    "duration": 141,
    "start_time": "2022-03-31T20:41:17.914Z"
   },
   {
    "duration": 0,
    "start_time": "2022-03-31T20:41:18.057Z"
   },
   {
    "duration": 1582,
    "start_time": "2022-03-31T20:41:53.646Z"
   },
   {
    "duration": 40,
    "start_time": "2022-03-31T20:41:55.230Z"
   },
   {
    "duration": 16,
    "start_time": "2022-03-31T20:41:55.272Z"
   },
   {
    "duration": 44,
    "start_time": "2022-03-31T20:41:55.290Z"
   },
   {
    "duration": 4,
    "start_time": "2022-03-31T20:41:55.337Z"
   },
   {
    "duration": 17,
    "start_time": "2022-03-31T20:41:55.343Z"
   },
   {
    "duration": 5,
    "start_time": "2022-03-31T20:41:55.362Z"
   },
   {
    "duration": 10,
    "start_time": "2022-03-31T20:41:55.369Z"
   },
   {
    "duration": 12,
    "start_time": "2022-03-31T20:41:55.401Z"
   },
   {
    "duration": 9,
    "start_time": "2022-03-31T20:41:55.414Z"
   },
   {
    "duration": 9,
    "start_time": "2022-03-31T20:41:55.424Z"
   },
   {
    "duration": 4,
    "start_time": "2022-03-31T20:41:55.435Z"
   },
   {
    "duration": 60,
    "start_time": "2022-03-31T20:41:55.441Z"
   },
   {
    "duration": 13,
    "start_time": "2022-03-31T20:41:55.504Z"
   },
   {
    "duration": 160,
    "start_time": "2022-03-31T20:41:55.518Z"
   },
   {
    "duration": 5,
    "start_time": "2022-03-31T20:41:55.680Z"
   },
   {
    "duration": 465,
    "start_time": "2022-03-31T20:41:55.686Z"
   },
   {
    "duration": 34,
    "start_time": "2022-03-31T20:41:56.153Z"
   },
   {
    "duration": 400,
    "start_time": "2022-03-31T20:41:56.188Z"
   },
   {
    "duration": 408,
    "start_time": "2022-03-31T20:41:56.589Z"
   },
   {
    "duration": 104,
    "start_time": "2022-03-31T20:41:57.002Z"
   },
   {
    "duration": 266,
    "start_time": "2022-03-31T20:41:57.109Z"
   },
   {
    "duration": 42,
    "start_time": "2022-03-31T20:41:57.377Z"
   },
   {
    "duration": 1046,
    "start_time": "2022-03-31T20:41:57.421Z"
   },
   {
    "duration": 599,
    "start_time": "2022-03-31T20:41:58.469Z"
   },
   {
    "duration": 137,
    "start_time": "2022-03-31T20:41:59.070Z"
   },
   {
    "duration": 101,
    "start_time": "2022-03-31T20:41:59.210Z"
   },
   {
    "duration": 14,
    "start_time": "2022-03-31T20:41:59.313Z"
   },
   {
    "duration": 197,
    "start_time": "2022-03-31T20:41:59.329Z"
   },
   {
    "duration": 155,
    "start_time": "2022-03-31T20:42:13.017Z"
   },
   {
    "duration": 179,
    "start_time": "2022-03-31T20:42:17.830Z"
   },
   {
    "duration": 348,
    "start_time": "2022-03-31T20:42:57.202Z"
   },
   {
    "duration": 322,
    "start_time": "2022-03-31T20:43:03.779Z"
   },
   {
    "duration": 356,
    "start_time": "2022-03-31T20:43:07.769Z"
   },
   {
    "duration": 1572,
    "start_time": "2022-03-31T20:44:47.541Z"
   },
   {
    "duration": 45,
    "start_time": "2022-03-31T20:44:49.116Z"
   },
   {
    "duration": 17,
    "start_time": "2022-03-31T20:44:49.164Z"
   },
   {
    "duration": 51,
    "start_time": "2022-03-31T20:44:49.183Z"
   },
   {
    "duration": 4,
    "start_time": "2022-03-31T20:44:49.238Z"
   },
   {
    "duration": 14,
    "start_time": "2022-03-31T20:44:49.244Z"
   },
   {
    "duration": 6,
    "start_time": "2022-03-31T20:44:49.260Z"
   },
   {
    "duration": 36,
    "start_time": "2022-03-31T20:44:49.269Z"
   },
   {
    "duration": 16,
    "start_time": "2022-03-31T20:44:49.307Z"
   },
   {
    "duration": 7,
    "start_time": "2022-03-31T20:44:49.325Z"
   },
   {
    "duration": 13,
    "start_time": "2022-03-31T20:44:49.334Z"
   },
   {
    "duration": 9,
    "start_time": "2022-03-31T20:44:49.349Z"
   },
   {
    "duration": 60,
    "start_time": "2022-03-31T20:44:49.360Z"
   },
   {
    "duration": 14,
    "start_time": "2022-03-31T20:44:49.424Z"
   },
   {
    "duration": 162,
    "start_time": "2022-03-31T20:44:49.440Z"
   },
   {
    "duration": 5,
    "start_time": "2022-03-31T20:44:49.604Z"
   },
   {
    "duration": 460,
    "start_time": "2022-03-31T20:44:49.611Z"
   },
   {
    "duration": 43,
    "start_time": "2022-03-31T20:44:50.073Z"
   },
   {
    "duration": 398,
    "start_time": "2022-03-31T20:44:50.118Z"
   },
   {
    "duration": 417,
    "start_time": "2022-03-31T20:44:50.517Z"
   },
   {
    "duration": 168,
    "start_time": "2022-03-31T20:44:50.936Z"
   },
   {
    "duration": 255,
    "start_time": "2022-03-31T20:44:51.109Z"
   },
   {
    "duration": 43,
    "start_time": "2022-03-31T20:44:51.366Z"
   },
   {
    "duration": 1146,
    "start_time": "2022-03-31T20:44:51.410Z"
   },
   {
    "duration": 637,
    "start_time": "2022-03-31T20:44:52.558Z"
   },
   {
    "duration": 206,
    "start_time": "2022-03-31T20:44:53.201Z"
   },
   {
    "duration": 100,
    "start_time": "2022-03-31T20:44:53.409Z"
   },
   {
    "duration": 27,
    "start_time": "2022-03-31T20:44:53.511Z"
   },
   {
    "duration": 350,
    "start_time": "2022-03-31T20:44:53.540Z"
   },
   {
    "duration": 54,
    "start_time": "2022-03-31T20:44:53.892Z"
   },
   {
    "duration": 52659,
    "start_time": "2022-03-31T20:46:49.949Z"
   },
   {
    "duration": 5343,
    "start_time": "2022-03-31T20:48:15.701Z"
   },
   {
    "duration": 31,
    "start_time": "2022-03-31T20:52:14.501Z"
   },
   {
    "duration": 212,
    "start_time": "2022-03-31T20:53:48.395Z"
   },
   {
    "duration": 117,
    "start_time": "2022-03-31T21:04:25.414Z"
   },
   {
    "duration": 9,
    "start_time": "2022-03-31T21:04:29.536Z"
   },
   {
    "duration": 345,
    "start_time": "2022-03-31T21:04:30.231Z"
   },
   {
    "duration": 1997,
    "start_time": "2022-03-31T21:04:41.575Z"
   },
   {
    "duration": 133,
    "start_time": "2022-03-31T21:04:59.449Z"
   },
   {
    "duration": 48,
    "start_time": "2022-03-31T21:05:04.474Z"
   },
   {
    "duration": 28,
    "start_time": "2022-03-31T21:05:46.413Z"
   },
   {
    "duration": 3489,
    "start_time": "2022-03-31T21:07:30.289Z"
   },
   {
    "duration": 28977,
    "start_time": "2022-03-31T21:08:14.661Z"
   },
   {
    "duration": 79583,
    "start_time": "2022-03-31T21:09:30.920Z"
   },
   {
    "duration": 360,
    "start_time": "2022-03-31T21:11:16.357Z"
   },
   {
    "duration": 591,
    "start_time": "2022-03-31T21:11:26.517Z"
   },
   {
    "duration": 630,
    "start_time": "2022-03-31T21:11:38.997Z"
   },
   {
    "duration": 150,
    "start_time": "2022-03-31T21:12:28.720Z"
   },
   {
    "duration": 157,
    "start_time": "2022-03-31T21:13:42.245Z"
   },
   {
    "duration": 996,
    "start_time": "2022-03-31T21:25:49.337Z"
   },
   {
    "duration": 158,
    "start_time": "2022-03-31T21:25:51.525Z"
   },
   {
    "duration": 602,
    "start_time": "2022-03-31T21:46:13.817Z"
   },
   {
    "duration": 55,
    "start_time": "2022-03-31T21:56:24.098Z"
   },
   {
    "duration": 18,
    "start_time": "2022-03-31T21:56:54.542Z"
   },
   {
    "duration": 41,
    "start_time": "2022-03-31T21:57:12.350Z"
   },
   {
    "duration": 78,
    "start_time": "2022-03-31T22:00:58.115Z"
   },
   {
    "duration": 119,
    "start_time": "2022-03-31T22:12:42.915Z"
   },
   {
    "duration": 52,
    "start_time": "2022-03-31T22:18:18.802Z"
   },
   {
    "duration": 1612,
    "start_time": "2022-03-31T22:18:54.239Z"
   },
   {
    "duration": 41,
    "start_time": "2022-03-31T22:18:55.854Z"
   },
   {
    "duration": 21,
    "start_time": "2022-03-31T22:18:55.897Z"
   },
   {
    "duration": 41,
    "start_time": "2022-03-31T22:18:55.921Z"
   },
   {
    "duration": 6,
    "start_time": "2022-03-31T22:18:55.964Z"
   },
   {
    "duration": 15,
    "start_time": "2022-03-31T22:18:56.002Z"
   },
   {
    "duration": 10,
    "start_time": "2022-03-31T22:18:56.019Z"
   },
   {
    "duration": 6,
    "start_time": "2022-03-31T22:18:56.032Z"
   },
   {
    "duration": 19,
    "start_time": "2022-03-31T22:18:56.040Z"
   },
   {
    "duration": 9,
    "start_time": "2022-03-31T22:18:56.062Z"
   },
   {
    "duration": 35,
    "start_time": "2022-03-31T22:18:56.073Z"
   },
   {
    "duration": 6,
    "start_time": "2022-03-31T22:18:56.110Z"
   },
   {
    "duration": 34,
    "start_time": "2022-03-31T22:18:56.118Z"
   },
   {
    "duration": 14,
    "start_time": "2022-03-31T22:18:56.154Z"
   },
   {
    "duration": 172,
    "start_time": "2022-03-31T22:18:56.169Z"
   },
   {
    "duration": 5,
    "start_time": "2022-03-31T22:18:56.343Z"
   },
   {
    "duration": 472,
    "start_time": "2022-03-31T22:18:56.349Z"
   },
   {
    "duration": 36,
    "start_time": "2022-03-31T22:18:56.823Z"
   },
   {
    "duration": 416,
    "start_time": "2022-03-31T22:18:56.861Z"
   },
   {
    "duration": 450,
    "start_time": "2022-03-31T22:18:57.279Z"
   },
   {
    "duration": 84,
    "start_time": "2022-03-31T22:18:57.731Z"
   },
   {
    "duration": 264,
    "start_time": "2022-03-31T22:18:57.819Z"
   },
   {
    "duration": 51,
    "start_time": "2022-03-31T22:18:58.085Z"
   },
   {
    "duration": 1105,
    "start_time": "2022-03-31T22:18:58.138Z"
   },
   {
    "duration": 595,
    "start_time": "2022-03-31T22:18:59.246Z"
   },
   {
    "duration": 169,
    "start_time": "2022-03-31T22:18:59.843Z"
   },
   {
    "duration": 94,
    "start_time": "2022-03-31T22:19:00.014Z"
   },
   {
    "duration": 15,
    "start_time": "2022-03-31T22:19:00.112Z"
   },
   {
    "duration": 358,
    "start_time": "2022-03-31T22:19:00.129Z"
   },
   {
    "duration": 61,
    "start_time": "2022-03-31T22:19:00.489Z"
   },
   {
    "duration": 5622,
    "start_time": "2022-03-31T22:19:00.552Z"
   },
   {
    "duration": 38,
    "start_time": "2022-03-31T22:19:06.176Z"
   },
   {
    "duration": 105,
    "start_time": "2022-03-31T22:19:06.216Z"
   },
   {
    "duration": 95,
    "start_time": "2022-03-31T22:19:06.412Z"
   },
   {
    "duration": 56,
    "start_time": "2022-03-31T22:19:06.509Z"
   },
   {
    "duration": 43,
    "start_time": "2022-03-31T22:19:06.566Z"
   },
   {
    "duration": 663,
    "start_time": "2022-03-31T22:19:06.612Z"
   },
   {
    "duration": 169,
    "start_time": "2022-03-31T22:19:07.276Z"
   },
   {
    "duration": 160,
    "start_time": "2022-03-31T22:19:07.447Z"
   },
   {
    "duration": 623,
    "start_time": "2022-03-31T22:19:07.609Z"
   },
   {
    "duration": 87,
    "start_time": "2022-03-31T22:19:08.234Z"
   },
   {
    "duration": 102,
    "start_time": "2022-03-31T22:19:08.323Z"
   },
   {
    "duration": 188,
    "start_time": "2022-03-31T22:19:08.428Z"
   },
   {
    "duration": 172,
    "start_time": "2022-03-31T22:19:43.774Z"
   },
   {
    "duration": 236,
    "start_time": "2022-03-31T22:20:08.769Z"
   },
   {
    "duration": 176,
    "start_time": "2022-03-31T22:20:18.627Z"
   },
   {
    "duration": 191,
    "start_time": "2022-03-31T22:21:05.818Z"
   },
   {
    "duration": 276,
    "start_time": "2022-03-31T22:21:07.912Z"
   },
   {
    "duration": 203,
    "start_time": "2022-03-31T22:21:26.909Z"
   },
   {
    "duration": 184,
    "start_time": "2022-03-31T22:21:56.342Z"
   },
   {
    "duration": 264,
    "start_time": "2022-03-31T22:22:09.526Z"
   },
   {
    "duration": 168,
    "start_time": "2022-03-31T22:22:20.192Z"
   },
   {
    "duration": 162,
    "start_time": "2022-03-31T22:23:04.414Z"
   },
   {
    "duration": 159,
    "start_time": "2022-03-31T22:23:21.282Z"
   },
   {
    "duration": 168,
    "start_time": "2022-03-31T22:24:09.284Z"
   },
   {
    "duration": 196,
    "start_time": "2022-03-31T22:26:34.980Z"
   },
   {
    "duration": 11319,
    "start_time": "2022-03-31T22:32:00.515Z"
   },
   {
    "duration": 1657,
    "start_time": "2022-03-31T22:32:26.716Z"
   },
   {
    "duration": 45,
    "start_time": "2022-03-31T22:32:28.375Z"
   },
   {
    "duration": 15,
    "start_time": "2022-03-31T22:32:28.422Z"
   },
   {
    "duration": 47,
    "start_time": "2022-03-31T22:32:28.440Z"
   },
   {
    "duration": 12,
    "start_time": "2022-03-31T22:32:28.489Z"
   },
   {
    "duration": 27,
    "start_time": "2022-03-31T22:32:28.506Z"
   },
   {
    "duration": 15,
    "start_time": "2022-03-31T22:32:28.535Z"
   },
   {
    "duration": 8,
    "start_time": "2022-03-31T22:32:28.552Z"
   },
   {
    "duration": 14,
    "start_time": "2022-03-31T22:32:28.562Z"
   },
   {
    "duration": 72835,
    "start_time": "2022-03-31T22:32:28.579Z"
   },
   {
    "duration": 5,
    "start_time": "2022-03-31T22:33:41.416Z"
   },
   {
    "duration": 24,
    "start_time": "2022-03-31T22:33:41.423Z"
   },
   {
    "duration": 10,
    "start_time": "2022-03-31T22:33:41.449Z"
   },
   {
    "duration": 53,
    "start_time": "2022-03-31T22:33:41.461Z"
   },
   {
    "duration": 12,
    "start_time": "2022-03-31T22:33:41.516Z"
   },
   {
    "duration": 157,
    "start_time": "2022-03-31T22:33:41.530Z"
   },
   {
    "duration": 6,
    "start_time": "2022-03-31T22:33:41.688Z"
   },
   {
    "duration": 467,
    "start_time": "2022-03-31T22:33:41.701Z"
   },
   {
    "duration": 50,
    "start_time": "2022-03-31T22:33:42.170Z"
   },
   {
    "duration": 390,
    "start_time": "2022-03-31T22:33:42.222Z"
   },
   {
    "duration": 447,
    "start_time": "2022-03-31T22:33:42.614Z"
   },
   {
    "duration": 140,
    "start_time": "2022-03-31T22:33:43.063Z"
   },
   {
    "duration": 264,
    "start_time": "2022-03-31T22:33:43.208Z"
   },
   {
    "duration": 42,
    "start_time": "2022-03-31T22:33:43.474Z"
   },
   {
    "duration": 1131,
    "start_time": "2022-03-31T22:33:43.518Z"
   },
   {
    "duration": 610,
    "start_time": "2022-03-31T22:33:44.651Z"
   },
   {
    "duration": 150,
    "start_time": "2022-03-31T22:33:45.262Z"
   },
   {
    "duration": 96,
    "start_time": "2022-03-31T22:33:45.416Z"
   },
   {
    "duration": 12,
    "start_time": "2022-03-31T22:33:45.514Z"
   },
   {
    "duration": 359,
    "start_time": "2022-03-31T22:33:45.528Z"
   },
   {
    "duration": 58,
    "start_time": "2022-03-31T22:33:45.889Z"
   },
   {
    "duration": 5579,
    "start_time": "2022-03-31T22:33:45.949Z"
   },
   {
    "duration": 31,
    "start_time": "2022-03-31T22:33:51.530Z"
   },
   {
    "duration": 150,
    "start_time": "2022-03-31T22:33:51.562Z"
   },
   {
    "duration": 95,
    "start_time": "2022-03-31T22:33:51.714Z"
   },
   {
    "duration": 51,
    "start_time": "2022-03-31T22:33:51.814Z"
   },
   {
    "duration": 50,
    "start_time": "2022-03-31T22:33:51.867Z"
   },
   {
    "duration": 675,
    "start_time": "2022-03-31T22:33:51.919Z"
   },
   {
    "duration": 170,
    "start_time": "2022-03-31T22:33:52.600Z"
   },
   {
    "duration": 130,
    "start_time": "2022-03-31T22:33:52.772Z"
   },
   {
    "duration": 696,
    "start_time": "2022-03-31T22:33:52.904Z"
   },
   {
    "duration": 81,
    "start_time": "2022-03-31T22:33:53.603Z"
   },
   {
    "duration": 97,
    "start_time": "2022-03-31T22:33:53.685Z"
   },
   {
    "duration": 206,
    "start_time": "2022-03-31T22:33:53.783Z"
   },
   {
    "duration": 152084,
    "start_time": "2022-03-31T22:40:06.639Z"
   },
   {
    "duration": 118,
    "start_time": "2022-03-31T22:43:33.909Z"
   },
   {
    "duration": 6,
    "start_time": "2022-03-31T22:46:05.056Z"
   },
   {
    "duration": 9,
    "start_time": "2022-03-31T22:46:17.498Z"
   },
   {
    "duration": 9,
    "start_time": "2022-03-31T22:46:28.303Z"
   },
   {
    "duration": 18,
    "start_time": "2022-03-31T22:47:19.749Z"
   },
   {
    "duration": 18,
    "start_time": "2022-03-31T22:47:30.158Z"
   },
   {
    "duration": 16,
    "start_time": "2022-03-31T22:47:40.902Z"
   },
   {
    "duration": 18,
    "start_time": "2022-03-31T22:47:51.215Z"
   },
   {
    "duration": 2287,
    "start_time": "2022-03-31T22:47:56.336Z"
   },
   {
    "duration": 954,
    "start_time": "2022-03-31T22:49:37.283Z"
   },
   {
    "duration": 936,
    "start_time": "2022-03-31T22:49:47.330Z"
   },
   {
    "duration": 939,
    "start_time": "2022-03-31T22:50:36.584Z"
   },
   {
    "duration": 960,
    "start_time": "2022-03-31T22:51:22.215Z"
   },
   {
    "duration": 951,
    "start_time": "2022-03-31T22:51:35.576Z"
   },
   {
    "duration": 905,
    "start_time": "2022-03-31T22:52:27.509Z"
   },
   {
    "duration": 925,
    "start_time": "2022-03-31T22:52:34.558Z"
   },
   {
    "duration": 152262,
    "start_time": "2022-03-31T22:53:01.480Z"
   },
   {
    "duration": 7,
    "start_time": "2022-03-31T23:00:10.647Z"
   },
   {
    "duration": 9,
    "start_time": "2022-03-31T23:00:22.576Z"
   },
   {
    "duration": 4,
    "start_time": "2022-03-31T23:01:39.286Z"
   },
   {
    "duration": 18,
    "start_time": "2022-03-31T23:01:44.264Z"
   },
   {
    "duration": 4,
    "start_time": "2022-03-31T23:11:29.742Z"
   },
   {
    "duration": 4,
    "start_time": "2022-03-31T23:12:52.887Z"
   },
   {
    "duration": 4,
    "start_time": "2022-03-31T23:13:01.267Z"
   },
   {
    "duration": 18,
    "start_time": "2022-03-31T23:13:02.611Z"
   },
   {
    "duration": 17,
    "start_time": "2022-03-31T23:15:44.492Z"
   },
   {
    "duration": 135,
    "start_time": "2022-03-31T23:15:58.593Z"
   },
   {
    "duration": 20,
    "start_time": "2022-03-31T23:16:28.987Z"
   },
   {
    "duration": 1623,
    "start_time": "2022-03-31T23:59:22.099Z"
   },
   {
    "duration": 44,
    "start_time": "2022-03-31T23:59:23.724Z"
   },
   {
    "duration": 17,
    "start_time": "2022-03-31T23:59:23.770Z"
   },
   {
    "duration": 56,
    "start_time": "2022-03-31T23:59:23.789Z"
   },
   {
    "duration": 5,
    "start_time": "2022-03-31T23:59:23.846Z"
   },
   {
    "duration": 17,
    "start_time": "2022-03-31T23:59:23.852Z"
   },
   {
    "duration": 14,
    "start_time": "2022-03-31T23:59:23.871Z"
   },
   {
    "duration": 7,
    "start_time": "2022-03-31T23:59:23.887Z"
   },
   {
    "duration": 12,
    "start_time": "2022-03-31T23:59:23.901Z"
   },
   {
    "duration": 7,
    "start_time": "2022-03-31T23:59:23.916Z"
   },
   {
    "duration": 16,
    "start_time": "2022-03-31T23:59:23.925Z"
   },
   {
    "duration": 4,
    "start_time": "2022-03-31T23:59:23.943Z"
   },
   {
    "duration": 57,
    "start_time": "2022-03-31T23:59:23.949Z"
   },
   {
    "duration": 13,
    "start_time": "2022-03-31T23:59:24.007Z"
   },
   {
    "duration": 160,
    "start_time": "2022-03-31T23:59:24.022Z"
   },
   {
    "duration": 5,
    "start_time": "2022-03-31T23:59:24.184Z"
   },
   {
    "duration": 481,
    "start_time": "2022-03-31T23:59:24.191Z"
   },
   {
    "duration": 43,
    "start_time": "2022-03-31T23:59:24.675Z"
   },
   {
    "duration": 390,
    "start_time": "2022-03-31T23:59:24.720Z"
   },
   {
    "duration": 412,
    "start_time": "2022-03-31T23:59:25.112Z"
   },
   {
    "duration": 179,
    "start_time": "2022-03-31T23:59:25.526Z"
   },
   {
    "duration": 180,
    "start_time": "2022-03-31T23:59:25.707Z"
   },
   {
    "duration": 37,
    "start_time": "2022-03-31T23:59:25.888Z"
   },
   {
    "duration": 1042,
    "start_time": "2022-03-31T23:59:25.926Z"
   },
   {
    "duration": 567,
    "start_time": "2022-03-31T23:59:26.970Z"
   },
   {
    "duration": 263,
    "start_time": "2022-03-31T23:59:27.539Z"
   },
   {
    "duration": 11,
    "start_time": "2022-03-31T23:59:27.804Z"
   },
   {
    "duration": 12,
    "start_time": "2022-03-31T23:59:27.820Z"
   },
   {
    "duration": 363,
    "start_time": "2022-03-31T23:59:27.834Z"
   },
   {
    "duration": 47,
    "start_time": "2022-03-31T23:59:28.199Z"
   },
   {
    "duration": 6217,
    "start_time": "2022-03-31T23:59:28.248Z"
   },
   {
    "duration": 39,
    "start_time": "2022-03-31T23:59:34.467Z"
   },
   {
    "duration": 195,
    "start_time": "2022-03-31T23:59:34.508Z"
   },
   {
    "duration": 100,
    "start_time": "2022-03-31T23:59:34.706Z"
   },
   {
    "duration": 50,
    "start_time": "2022-03-31T23:59:34.809Z"
   },
   {
    "duration": 44,
    "start_time": "2022-03-31T23:59:34.861Z"
   },
   {
    "duration": 647,
    "start_time": "2022-03-31T23:59:34.908Z"
   },
   {
    "duration": 168,
    "start_time": "2022-03-31T23:59:35.556Z"
   },
   {
    "duration": 181,
    "start_time": "2022-03-31T23:59:35.725Z"
   },
   {
    "duration": 611,
    "start_time": "2022-03-31T23:59:35.909Z"
   },
   {
    "duration": 89,
    "start_time": "2022-03-31T23:59:36.523Z"
   },
   {
    "duration": 89,
    "start_time": "2022-03-31T23:59:36.614Z"
   },
   {
    "duration": 185,
    "start_time": "2022-03-31T23:59:36.704Z"
   },
   {
    "duration": 1565,
    "start_time": "2022-04-01T00:19:58.554Z"
   },
   {
    "duration": 41,
    "start_time": "2022-04-01T00:20:00.122Z"
   },
   {
    "duration": 15,
    "start_time": "2022-04-01T00:20:00.165Z"
   },
   {
    "duration": 52,
    "start_time": "2022-04-01T00:20:00.182Z"
   },
   {
    "duration": 5,
    "start_time": "2022-04-01T00:20:00.236Z"
   },
   {
    "duration": 15,
    "start_time": "2022-04-01T00:20:00.243Z"
   },
   {
    "duration": 5,
    "start_time": "2022-04-01T00:20:00.260Z"
   },
   {
    "duration": 5,
    "start_time": "2022-04-01T00:20:00.267Z"
   },
   {
    "duration": 35,
    "start_time": "2022-04-01T00:20:00.274Z"
   },
   {
    "duration": 9,
    "start_time": "2022-04-01T00:20:00.312Z"
   },
   {
    "duration": 10,
    "start_time": "2022-04-01T00:20:00.323Z"
   },
   {
    "duration": 5,
    "start_time": "2022-04-01T00:20:00.335Z"
   },
   {
    "duration": 36,
    "start_time": "2022-04-01T00:20:00.341Z"
   },
   {
    "duration": 34,
    "start_time": "2022-04-01T00:20:00.378Z"
   },
   {
    "duration": 165,
    "start_time": "2022-04-01T00:20:00.414Z"
   },
   {
    "duration": 5,
    "start_time": "2022-04-01T00:20:00.581Z"
   },
   {
    "duration": 484,
    "start_time": "2022-04-01T00:20:00.588Z"
   },
   {
    "duration": 49,
    "start_time": "2022-04-01T00:20:01.075Z"
   },
   {
    "duration": 418,
    "start_time": "2022-04-01T00:20:01.126Z"
   },
   {
    "duration": 435,
    "start_time": "2022-04-01T00:20:01.546Z"
   },
   {
    "duration": 124,
    "start_time": "2022-04-01T00:20:01.982Z"
   },
   {
    "duration": 271,
    "start_time": "2022-04-01T00:20:02.109Z"
   },
   {
    "duration": 38,
    "start_time": "2022-04-01T00:20:02.382Z"
   },
   {
    "duration": 1109,
    "start_time": "2022-04-01T00:20:02.422Z"
   },
   {
    "duration": 596,
    "start_time": "2022-04-01T00:20:03.533Z"
   },
   {
    "duration": 174,
    "start_time": "2022-04-01T00:20:04.131Z"
   },
   {
    "duration": 15,
    "start_time": "2022-04-01T00:20:04.307Z"
   },
   {
    "duration": 27,
    "start_time": "2022-04-01T00:20:04.326Z"
   },
   {
    "duration": 348,
    "start_time": "2022-04-01T00:20:04.355Z"
   },
   {
    "duration": 48,
    "start_time": "2022-04-01T00:20:04.705Z"
   },
   {
    "duration": 5393,
    "start_time": "2022-04-01T00:20:04.755Z"
   },
   {
    "duration": 30,
    "start_time": "2022-04-01T00:20:10.149Z"
   },
   {
    "duration": 126,
    "start_time": "2022-04-01T00:20:10.181Z"
   },
   {
    "duration": 100,
    "start_time": "2022-04-01T00:20:10.309Z"
   },
   {
    "duration": 49,
    "start_time": "2022-04-01T00:20:10.411Z"
   },
   {
    "duration": 53,
    "start_time": "2022-04-01T00:20:10.462Z"
   },
   {
    "duration": 668,
    "start_time": "2022-04-01T00:20:10.517Z"
   },
   {
    "duration": 164,
    "start_time": "2022-04-01T00:20:11.187Z"
   },
   {
    "duration": 159,
    "start_time": "2022-04-01T00:20:11.353Z"
   },
   {
    "duration": 593,
    "start_time": "2022-04-01T00:20:11.600Z"
   },
   {
    "duration": 83,
    "start_time": "2022-04-01T00:20:12.195Z"
   },
   {
    "duration": 97,
    "start_time": "2022-04-01T00:20:12.279Z"
   },
   {
    "duration": 186,
    "start_time": "2022-04-01T00:20:12.378Z"
   },
   {
    "duration": 1745,
    "start_time": "2022-04-04T09:48:53.690Z"
   },
   {
    "duration": 52,
    "start_time": "2022-04-04T09:48:55.437Z"
   },
   {
    "duration": 14,
    "start_time": "2022-04-04T09:48:55.490Z"
   },
   {
    "duration": 34,
    "start_time": "2022-04-04T09:48:55.505Z"
   },
   {
    "duration": 3,
    "start_time": "2022-04-04T09:48:55.542Z"
   },
   {
    "duration": 34,
    "start_time": "2022-04-04T09:48:55.547Z"
   },
   {
    "duration": 5,
    "start_time": "2022-04-04T09:48:55.582Z"
   },
   {
    "duration": 7,
    "start_time": "2022-04-04T09:48:55.588Z"
   },
   {
    "duration": 14,
    "start_time": "2022-04-04T09:48:55.596Z"
   },
   {
    "duration": 9,
    "start_time": "2022-04-04T09:48:55.611Z"
   },
   {
    "duration": 15,
    "start_time": "2022-04-04T09:48:55.621Z"
   },
   {
    "duration": 3,
    "start_time": "2022-04-04T09:48:55.638Z"
   },
   {
    "duration": 42,
    "start_time": "2022-04-04T09:48:55.643Z"
   },
   {
    "duration": 10,
    "start_time": "2022-04-04T09:48:55.689Z"
   },
   {
    "duration": 140,
    "start_time": "2022-04-04T09:48:55.701Z"
   },
   {
    "duration": 5,
    "start_time": "2022-04-04T09:48:55.843Z"
   },
   {
    "duration": 401,
    "start_time": "2022-04-04T09:48:55.849Z"
   },
   {
    "duration": 38,
    "start_time": "2022-04-04T09:48:56.251Z"
   },
   {
    "duration": 330,
    "start_time": "2022-04-04T09:48:56.291Z"
   },
   {
    "duration": 365,
    "start_time": "2022-04-04T09:48:56.623Z"
   },
   {
    "duration": 93,
    "start_time": "2022-04-04T09:48:56.990Z"
   },
   {
    "duration": 237,
    "start_time": "2022-04-04T09:48:57.085Z"
   },
   {
    "duration": 29,
    "start_time": "2022-04-04T09:48:57.323Z"
   },
   {
    "duration": 935,
    "start_time": "2022-04-04T09:48:57.353Z"
   },
   {
    "duration": 511,
    "start_time": "2022-04-04T09:48:58.290Z"
   },
   {
    "duration": 180,
    "start_time": "2022-04-04T09:48:58.803Z"
   },
   {
    "duration": 13,
    "start_time": "2022-04-04T09:48:58.985Z"
   },
   {
    "duration": 34,
    "start_time": "2022-04-04T09:48:58.999Z"
   },
   {
    "duration": 328,
    "start_time": "2022-04-04T09:48:59.034Z"
   },
   {
    "duration": 52,
    "start_time": "2022-04-04T09:48:59.364Z"
   },
   {
    "duration": 4663,
    "start_time": "2022-04-04T09:48:59.417Z"
   },
   {
    "duration": 25,
    "start_time": "2022-04-04T09:49:04.082Z"
   },
   {
    "duration": 175,
    "start_time": "2022-04-04T09:49:04.108Z"
   },
   {
    "duration": 100,
    "start_time": "2022-04-04T09:49:04.285Z"
   },
   {
    "duration": 40,
    "start_time": "2022-04-04T09:49:04.386Z"
   },
   {
    "duration": 24,
    "start_time": "2022-04-04T09:49:04.427Z"
   },
   {
    "duration": 582,
    "start_time": "2022-04-04T09:49:04.452Z"
   },
   {
    "duration": 141,
    "start_time": "2022-04-04T09:49:05.036Z"
   },
   {
    "duration": 101,
    "start_time": "2022-04-04T09:49:05.181Z"
   },
   {
    "duration": 592,
    "start_time": "2022-04-04T09:49:05.284Z"
   },
   {
    "duration": 66,
    "start_time": "2022-04-04T09:49:05.880Z"
   },
   {
    "duration": 78,
    "start_time": "2022-04-04T09:49:05.947Z"
   },
   {
    "duration": 165,
    "start_time": "2022-04-04T09:49:06.026Z"
   },
   {
    "duration": 117,
    "start_time": "2022-04-04T09:49:06.192Z"
   },
   {
    "duration": 99,
    "start_time": "2022-04-04T09:50:19.406Z"
   },
   {
    "duration": 167,
    "start_time": "2022-04-04T09:52:10.899Z"
   },
   {
    "duration": 11,
    "start_time": "2022-04-04T10:17:09.444Z"
   },
   {
    "duration": 307,
    "start_time": "2022-04-04T10:17:30.630Z"
   },
   {
    "duration": 15,
    "start_time": "2022-04-04T10:40:57.973Z"
   },
   {
    "duration": 10,
    "start_time": "2022-04-04T10:41:16.864Z"
   },
   {
    "duration": 4,
    "start_time": "2022-04-04T10:41:22.254Z"
   },
   {
    "duration": 10,
    "start_time": "2022-04-04T10:41:50.145Z"
   },
   {
    "duration": 261,
    "start_time": "2022-04-04T10:41:59.787Z"
   },
   {
    "duration": 16,
    "start_time": "2022-04-04T10:56:53.378Z"
   },
   {
    "duration": 153,
    "start_time": "2022-04-04T10:57:25.408Z"
   },
   {
    "duration": 4,
    "start_time": "2022-04-04T10:58:20.867Z"
   },
   {
    "duration": 4,
    "start_time": "2022-04-04T10:58:44.772Z"
   },
   {
    "duration": 4,
    "start_time": "2022-04-04T10:59:04.879Z"
   },
   {
    "duration": 151,
    "start_time": "2022-04-04T10:59:54.357Z"
   },
   {
    "duration": 169,
    "start_time": "2022-04-04T11:01:58.731Z"
   },
   {
    "duration": 175,
    "start_time": "2022-04-04T11:02:09.743Z"
   },
   {
    "duration": 168,
    "start_time": "2022-04-04T11:02:21.053Z"
   },
   {
    "duration": 171,
    "start_time": "2022-04-04T11:02:31.273Z"
   },
   {
    "duration": 165,
    "start_time": "2022-04-04T11:02:35.185Z"
   },
   {
    "duration": 254,
    "start_time": "2022-04-04T11:02:39.216Z"
   },
   {
    "duration": 161,
    "start_time": "2022-04-04T11:02:43.049Z"
   },
   {
    "duration": 169,
    "start_time": "2022-04-04T11:10:30.575Z"
   },
   {
    "duration": 13,
    "start_time": "2022-04-04T11:10:39.324Z"
   },
   {
    "duration": 162,
    "start_time": "2022-04-04T11:10:43.948Z"
   },
   {
    "duration": 159,
    "start_time": "2022-04-04T11:10:52.677Z"
   },
   {
    "duration": 165,
    "start_time": "2022-04-04T11:10:58.711Z"
   },
   {
    "duration": 12,
    "start_time": "2022-04-04T11:13:01.835Z"
   },
   {
    "duration": 9,
    "start_time": "2022-04-04T11:13:07.188Z"
   },
   {
    "duration": 10,
    "start_time": "2022-04-04T11:13:10.170Z"
   },
   {
    "duration": 5,
    "start_time": "2022-04-04T11:13:13.411Z"
   },
   {
    "duration": 10,
    "start_time": "2022-04-04T11:13:24.564Z"
   },
   {
    "duration": 10,
    "start_time": "2022-04-04T11:13:29.924Z"
   },
   {
    "duration": 5,
    "start_time": "2022-04-04T11:14:08.899Z"
   },
   {
    "duration": 5,
    "start_time": "2022-04-04T11:14:18.634Z"
   },
   {
    "duration": 5,
    "start_time": "2022-04-04T11:14:23.398Z"
   },
   {
    "duration": 171,
    "start_time": "2022-04-04T11:14:29.698Z"
   },
   {
    "duration": 278,
    "start_time": "2022-04-04T11:14:32.284Z"
   },
   {
    "duration": 172,
    "start_time": "2022-04-04T11:14:39.363Z"
   },
   {
    "duration": 166,
    "start_time": "2022-04-04T11:17:03.085Z"
   },
   {
    "duration": 366,
    "start_time": "2022-04-04T11:18:38.518Z"
   },
   {
    "duration": 1572,
    "start_time": "2022-04-04T11:21:04.727Z"
   },
   {
    "duration": 50,
    "start_time": "2022-04-04T11:21:06.301Z"
   },
   {
    "duration": 12,
    "start_time": "2022-04-04T11:21:06.353Z"
   },
   {
    "duration": 34,
    "start_time": "2022-04-04T11:21:06.367Z"
   },
   {
    "duration": 3,
    "start_time": "2022-04-04T11:21:06.402Z"
   },
   {
    "duration": 12,
    "start_time": "2022-04-04T11:21:06.406Z"
   },
   {
    "duration": 4,
    "start_time": "2022-04-04T11:21:06.419Z"
   },
   {
    "duration": 11,
    "start_time": "2022-04-04T11:21:06.424Z"
   },
   {
    "duration": 16,
    "start_time": "2022-04-04T11:21:06.437Z"
   },
   {
    "duration": 5,
    "start_time": "2022-04-04T11:21:06.456Z"
   },
   {
    "duration": 22,
    "start_time": "2022-04-04T11:21:06.462Z"
   },
   {
    "duration": 5,
    "start_time": "2022-04-04T11:21:06.485Z"
   },
   {
    "duration": 31,
    "start_time": "2022-04-04T11:21:06.491Z"
   },
   {
    "duration": 10,
    "start_time": "2022-04-04T11:21:06.524Z"
   },
   {
    "duration": 144,
    "start_time": "2022-04-04T11:21:06.536Z"
   },
   {
    "duration": 4,
    "start_time": "2022-04-04T11:21:06.682Z"
   },
   {
    "duration": 396,
    "start_time": "2022-04-04T11:21:06.688Z"
   },
   {
    "duration": 28,
    "start_time": "2022-04-04T11:21:07.086Z"
   },
   {
    "duration": 343,
    "start_time": "2022-04-04T11:21:07.116Z"
   },
   {
    "duration": 352,
    "start_time": "2022-04-04T11:21:07.460Z"
   },
   {
    "duration": 168,
    "start_time": "2022-04-04T11:21:07.813Z"
   },
   {
    "duration": 150,
    "start_time": "2022-04-04T11:21:07.982Z"
   },
   {
    "duration": 26,
    "start_time": "2022-04-04T11:21:08.133Z"
   },
   {
    "duration": 1008,
    "start_time": "2022-04-04T11:21:08.161Z"
   },
   {
    "duration": 526,
    "start_time": "2022-04-04T11:21:09.171Z"
   },
   {
    "duration": 184,
    "start_time": "2022-04-04T11:21:09.698Z"
   },
   {
    "duration": 11,
    "start_time": "2022-04-04T11:21:09.883Z"
   },
   {
    "duration": 9,
    "start_time": "2022-04-04T11:21:09.898Z"
   },
   {
    "duration": 321,
    "start_time": "2022-04-04T11:21:09.908Z"
   },
   {
    "duration": 50,
    "start_time": "2022-04-04T11:21:10.231Z"
   },
   {
    "duration": 4503,
    "start_time": "2022-04-04T11:21:10.283Z"
   },
   {
    "duration": 25,
    "start_time": "2022-04-04T11:21:14.788Z"
   },
   {
    "duration": 170,
    "start_time": "2022-04-04T11:21:14.815Z"
   },
   {
    "duration": 94,
    "start_time": "2022-04-04T11:21:14.987Z"
   },
   {
    "duration": 41,
    "start_time": "2022-04-04T11:21:15.083Z"
   },
   {
    "duration": 21,
    "start_time": "2022-04-04T11:21:15.125Z"
   },
   {
    "duration": 567,
    "start_time": "2022-04-04T11:21:15.148Z"
   },
   {
    "duration": 144,
    "start_time": "2022-04-04T11:21:15.717Z"
   },
   {
    "duration": 126,
    "start_time": "2022-04-04T11:21:15.863Z"
   },
   {
    "duration": 600,
    "start_time": "2022-04-04T11:21:15.991Z"
   },
   {
    "duration": 63,
    "start_time": "2022-04-04T11:21:16.593Z"
   },
   {
    "duration": 80,
    "start_time": "2022-04-04T11:21:16.658Z"
   },
   {
    "duration": 183,
    "start_time": "2022-04-04T11:21:16.739Z"
   },
   {
    "duration": 164,
    "start_time": "2022-04-04T11:21:16.924Z"
   },
   {
    "duration": 2,
    "start_time": "2022-04-04T11:21:17.089Z"
   },
   {
    "duration": 11,
    "start_time": "2022-04-04T11:21:17.092Z"
   },
   {
    "duration": 5,
    "start_time": "2022-04-04T11:21:17.104Z"
   },
   {
    "duration": 6,
    "start_time": "2022-04-04T11:21:17.111Z"
   },
   {
    "duration": 7,
    "start_time": "2022-04-04T11:21:17.118Z"
   },
   {
    "duration": 8,
    "start_time": "2022-04-04T11:21:17.126Z"
   },
   {
    "duration": 249,
    "start_time": "2022-04-04T11:40:52.356Z"
   },
   {
    "duration": 1567,
    "start_time": "2022-04-04T11:49:51.893Z"
   },
   {
    "duration": 50,
    "start_time": "2022-04-04T11:49:53.462Z"
   },
   {
    "duration": 13,
    "start_time": "2022-04-04T11:49:53.513Z"
   },
   {
    "duration": 37,
    "start_time": "2022-04-04T11:49:53.528Z"
   },
   {
    "duration": 3,
    "start_time": "2022-04-04T11:49:53.567Z"
   },
   {
    "duration": 16,
    "start_time": "2022-04-04T11:49:53.572Z"
   },
   {
    "duration": 4,
    "start_time": "2022-04-04T11:49:53.589Z"
   },
   {
    "duration": 8,
    "start_time": "2022-04-04T11:49:53.595Z"
   },
   {
    "duration": 11,
    "start_time": "2022-04-04T11:49:53.604Z"
   },
   {
    "duration": 5,
    "start_time": "2022-04-04T11:49:53.618Z"
   },
   {
    "duration": 10,
    "start_time": "2022-04-04T11:49:53.625Z"
   },
   {
    "duration": 4,
    "start_time": "2022-04-04T11:49:53.637Z"
   },
   {
    "duration": 44,
    "start_time": "2022-04-04T11:49:53.643Z"
   },
   {
    "duration": 9,
    "start_time": "2022-04-04T11:49:53.689Z"
   },
   {
    "duration": 142,
    "start_time": "2022-04-04T11:49:53.700Z"
   },
   {
    "duration": 5,
    "start_time": "2022-04-04T11:49:53.843Z"
   },
   {
    "duration": 401,
    "start_time": "2022-04-04T11:49:53.849Z"
   },
   {
    "duration": 38,
    "start_time": "2022-04-04T11:49:54.251Z"
   },
   {
    "duration": 336,
    "start_time": "2022-04-04T11:49:54.290Z"
   },
   {
    "duration": 362,
    "start_time": "2022-04-04T11:49:54.628Z"
   },
   {
    "duration": 99,
    "start_time": "2022-04-04T11:49:54.991Z"
   },
   {
    "duration": 284,
    "start_time": "2022-04-04T11:49:55.092Z"
   },
   {
    "duration": 40,
    "start_time": "2022-04-04T11:49:55.380Z"
   },
   {
    "duration": 1316,
    "start_time": "2022-04-04T11:49:55.422Z"
   },
   {
    "duration": 702,
    "start_time": "2022-04-04T11:49:56.740Z"
   },
   {
    "duration": 52,
    "start_time": "2022-04-04T11:49:57.443Z"
   },
   {
    "duration": 94,
    "start_time": "2022-04-04T11:49:57.496Z"
   },
   {
    "duration": 93,
    "start_time": "2022-04-04T11:49:57.595Z"
   },
   {
    "duration": 308,
    "start_time": "2022-04-04T11:49:57.689Z"
   },
   {
    "duration": 42,
    "start_time": "2022-04-04T11:49:57.999Z"
   },
   {
    "duration": 4659,
    "start_time": "2022-04-04T11:49:58.043Z"
   },
   {
    "duration": 26,
    "start_time": "2022-04-04T11:50:02.703Z"
   },
   {
    "duration": 164,
    "start_time": "2022-04-04T11:50:02.731Z"
   },
   {
    "duration": 9,
    "start_time": "2022-04-04T11:50:02.982Z"
   },
   {
    "duration": 60,
    "start_time": "2022-04-04T11:50:02.992Z"
   },
   {
    "duration": 23,
    "start_time": "2022-04-04T11:50:03.054Z"
   },
   {
    "duration": 596,
    "start_time": "2022-04-04T11:50:03.079Z"
   },
   {
    "duration": 136,
    "start_time": "2022-04-04T11:50:03.677Z"
   },
   {
    "duration": 78,
    "start_time": "2022-04-04T11:50:03.815Z"
   },
   {
    "duration": 587,
    "start_time": "2022-04-04T11:50:03.895Z"
   },
   {
    "duration": 70,
    "start_time": "2022-04-04T11:50:04.483Z"
   },
   {
    "duration": 103,
    "start_time": "2022-04-04T11:50:04.554Z"
   },
   {
    "duration": 318,
    "start_time": "2022-04-04T11:50:04.660Z"
   },
   {
    "duration": 264,
    "start_time": "2022-04-04T11:50:04.981Z"
   }
  ],
  "kernelspec": {
   "display_name": "Python 3 (ipykernel)",
   "language": "python",
   "name": "python3"
  },
  "language_info": {
   "codemirror_mode": {
    "name": "ipython",
    "version": 3
   },
   "file_extension": ".py",
   "mimetype": "text/x-python",
   "name": "python",
   "nbconvert_exporter": "python",
   "pygments_lexer": "ipython3",
   "version": "3.9.5"
  },
  "toc": {
   "base_numbering": 1,
   "nav_menu": {},
   "number_sections": true,
   "sideBar": true,
   "skip_h1_title": true,
   "title_cell": "Содержание",
   "title_sidebar": "Contents",
   "toc_cell": true,
   "toc_position": {
    "height": "calc(100% - 180px)",
    "left": "10px",
    "top": "150px",
    "width": "290.8px"
   },
   "toc_section_display": true,
   "toc_window_display": true
  }
 },
 "nbformat": 4,
 "nbformat_minor": 2
}